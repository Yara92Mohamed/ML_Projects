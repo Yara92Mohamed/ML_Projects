{
  "nbformat": 4,
  "nbformat_minor": 0,
  "metadata": {
    "colab": {
      "provenance": []
    },
    "kernelspec": {
      "name": "python3",
      "display_name": "Python 3"
    },
    "language_info": {
      "name": "python"
    },
    "accelerator": "GPU",
    "gpuClass": "standard"
  },
  "cells": [
    {
      "cell_type": "markdown",
      "source": [
        "CSAI 801 Project: COVID-19 Outcome Prediction\n",
        "\n",
        "\n",
        "Project Description\n",
        "The data used in this project will help to identify whether a person is going to recover from\n",
        "coronavirus symptoms or not based on some pre-defined standard symptoms. These symptoms are\n",
        "based on guidelines given by the World Health Organization (WHO).\n",
        "This dataset has daily level information on the number of affected cases, deaths and recovery from\n",
        "2019 novel coronavirus. Please note that this is a time series data and so the number of cases on\n",
        "any given day is the cumulative number.\n",
        "The data is available from 22 Jan, 2020. Data is in “data.csv”.\n",
        "The dataset contains 14 major variables that will be having an impact on whether someone has\n",
        "recovered or not, the description of each variable are as follows,\n",
        "1. Country: where the person resides\n",
        "2. Location: which part in the Country\n",
        "3. Age: Classification of the age group for each person, based on WHO Age Group Standard\n",
        "4. Gender: Male or Female\n",
        "5. Visited_Wuhan: whether the person has visited Wuhan, China or not\n",
        "6. From_Wuhan: whether the person is from Wuhan, China or not\n",
        "7. Symptoms: there are six families of symptoms that are coded in six fields.\n",
        "13. Time_before_symptoms_appear:\n",
        "14. Result: death (1) or recovered (0)\n",
        "It is required to design different classifiers to the predict the outcome (death/recovered) when a new\n",
        "person is admitted to the hospital. The data is already cleaned and preprocessed.\n",
        "You will have to divide the data into three partitions: training, validation, and testing. You need to\n",
        "design the following classifiers:\n",
        "1. K-Nearest Neighbors\n",
        "2. Logistic Regression\n",
        "3. Naïve Bayes\n",
        "4. Decision Trees\n",
        "5. Support Vector Machines\n",
        "For each classifier, find the optimal hyperparameters.\n",
        "You also need to compare the performance of all classifiers using different metrics such as the\n",
        "precision, recall, F1-score, and ROC/AUC curves.\n",
        "Prepare a document summarizing your findings and support your arguments using visualization.\n",
        "You need to hand out/upload your code files (.ipynb) along with the project report."
      ],
      "metadata": {
        "id": "aOBx-Qx7hsmE"
      }
    },
    {
      "cell_type": "code",
      "source": [
        "import numpy as np\n",
        "import matplotlib.pyplot as plt\n",
        "import pandas as pd\n",
        "\n",
        "from sklearn.model_selection import train_test_split\n",
        "from sklearn.preprocessing import StandardScaler\n",
        "from sklearn.model_selection import cross_val_score\n",
        "\n",
        "#classifier\n",
        "from sklearn.naive_bayes import GaussianNB\n",
        "from sklearn.neighbors import KNeighborsClassifier\n",
        "from sklearn.linear_model import LogisticRegression\n",
        "from sklearn.svm import SVC\n",
        "from sklearn.tree import DecisionTreeClassifier\n",
        "\n",
        "#acuraccy scores\n",
        "from sklearn.metrics import precision_score , recall_score , precision_recall_curve\n",
        "from sklearn.metrics import confusion_matrix\n",
        "from sklearn.metrics import roc_curve, roc_auc_score\n",
        "from sklearn.metrics import f1_score\n",
        "from sklearn.metrics import accuracy_score\n",
        "\n",
        "from sklearn.model_selection import GridSearchCV\n",
        "\n",
        "from sklearn.metrics import classification_report\n",
        "import seaborn as sns\n",
        "%matplotlib inline\n",
        "\n",
        "#visiualize decision tree\n",
        "from sklearn.tree import export_graphviz\n",
        "from six import StringIO\n",
        "from IPython.display import Image\n",
        "import pydotplus"
      ],
      "metadata": {
        "id": "fx-0_sivhyLj"
      },
      "execution_count": null,
      "outputs": []
    },
    {
      "cell_type": "code",
      "source": [
        "c_dataset = pd.read_csv('/content/data.csv')\n"
      ],
      "metadata": {
        "id": "biD59mUjS_N0"
      },
      "execution_count": null,
      "outputs": []
    },
    {
      "cell_type": "code",
      "source": [
        "c_dataset.head()"
      ],
      "metadata": {
        "colab": {
          "base_uri": "https://localhost:8080/",
          "height": 206
        },
        "id": "vbok1_-QS_VF",
        "outputId": "58c97550-7ee8-420d-e0e0-267f9ac0c254"
      },
      "execution_count": null,
      "outputs": [
        {
          "output_type": "execute_result",
          "data": {
            "text/plain": [
              "   Unnamed: 0  location  country  gender   age  vis_wuhan  from_wuhan  \\\n",
              "0           0       104        8       1  66.0          1           0   \n",
              "1           1       101        8       0  56.0          0           1   \n",
              "2           2       137        8       1  46.0          0           1   \n",
              "3           3       116        8       0  60.0          1           0   \n",
              "4           4       116        8       1  58.0          0           0   \n",
              "\n",
              "   symptom1  symptom2  symptom3  symptom4  symptom5  symptom6  diff_sym_hos  \\\n",
              "0        14        31        19        12         3         1             8   \n",
              "1        14        31        19        12         3         1             0   \n",
              "2        14        31        19        12         3         1            13   \n",
              "3        14        31        19        12         3         1             0   \n",
              "4        14        31        19        12         3         1             0   \n",
              "\n",
              "   result  \n",
              "0       1  \n",
              "1       0  \n",
              "2       0  \n",
              "3       0  \n",
              "4       0  "
            ],
            "text/html": [
              "\n",
              "  <div id=\"df-78a5eb64-4386-4b9d-9dfa-71776cb5ef20\">\n",
              "    <div class=\"colab-df-container\">\n",
              "      <div>\n",
              "<style scoped>\n",
              "    .dataframe tbody tr th:only-of-type {\n",
              "        vertical-align: middle;\n",
              "    }\n",
              "\n",
              "    .dataframe tbody tr th {\n",
              "        vertical-align: top;\n",
              "    }\n",
              "\n",
              "    .dataframe thead th {\n",
              "        text-align: right;\n",
              "    }\n",
              "</style>\n",
              "<table border=\"1\" class=\"dataframe\">\n",
              "  <thead>\n",
              "    <tr style=\"text-align: right;\">\n",
              "      <th></th>\n",
              "      <th>Unnamed: 0</th>\n",
              "      <th>location</th>\n",
              "      <th>country</th>\n",
              "      <th>gender</th>\n",
              "      <th>age</th>\n",
              "      <th>vis_wuhan</th>\n",
              "      <th>from_wuhan</th>\n",
              "      <th>symptom1</th>\n",
              "      <th>symptom2</th>\n",
              "      <th>symptom3</th>\n",
              "      <th>symptom4</th>\n",
              "      <th>symptom5</th>\n",
              "      <th>symptom6</th>\n",
              "      <th>diff_sym_hos</th>\n",
              "      <th>result</th>\n",
              "    </tr>\n",
              "  </thead>\n",
              "  <tbody>\n",
              "    <tr>\n",
              "      <th>0</th>\n",
              "      <td>0</td>\n",
              "      <td>104</td>\n",
              "      <td>8</td>\n",
              "      <td>1</td>\n",
              "      <td>66.0</td>\n",
              "      <td>1</td>\n",
              "      <td>0</td>\n",
              "      <td>14</td>\n",
              "      <td>31</td>\n",
              "      <td>19</td>\n",
              "      <td>12</td>\n",
              "      <td>3</td>\n",
              "      <td>1</td>\n",
              "      <td>8</td>\n",
              "      <td>1</td>\n",
              "    </tr>\n",
              "    <tr>\n",
              "      <th>1</th>\n",
              "      <td>1</td>\n",
              "      <td>101</td>\n",
              "      <td>8</td>\n",
              "      <td>0</td>\n",
              "      <td>56.0</td>\n",
              "      <td>0</td>\n",
              "      <td>1</td>\n",
              "      <td>14</td>\n",
              "      <td>31</td>\n",
              "      <td>19</td>\n",
              "      <td>12</td>\n",
              "      <td>3</td>\n",
              "      <td>1</td>\n",
              "      <td>0</td>\n",
              "      <td>0</td>\n",
              "    </tr>\n",
              "    <tr>\n",
              "      <th>2</th>\n",
              "      <td>2</td>\n",
              "      <td>137</td>\n",
              "      <td>8</td>\n",
              "      <td>1</td>\n",
              "      <td>46.0</td>\n",
              "      <td>0</td>\n",
              "      <td>1</td>\n",
              "      <td>14</td>\n",
              "      <td>31</td>\n",
              "      <td>19</td>\n",
              "      <td>12</td>\n",
              "      <td>3</td>\n",
              "      <td>1</td>\n",
              "      <td>13</td>\n",
              "      <td>0</td>\n",
              "    </tr>\n",
              "    <tr>\n",
              "      <th>3</th>\n",
              "      <td>3</td>\n",
              "      <td>116</td>\n",
              "      <td>8</td>\n",
              "      <td>0</td>\n",
              "      <td>60.0</td>\n",
              "      <td>1</td>\n",
              "      <td>0</td>\n",
              "      <td>14</td>\n",
              "      <td>31</td>\n",
              "      <td>19</td>\n",
              "      <td>12</td>\n",
              "      <td>3</td>\n",
              "      <td>1</td>\n",
              "      <td>0</td>\n",
              "      <td>0</td>\n",
              "    </tr>\n",
              "    <tr>\n",
              "      <th>4</th>\n",
              "      <td>4</td>\n",
              "      <td>116</td>\n",
              "      <td>8</td>\n",
              "      <td>1</td>\n",
              "      <td>58.0</td>\n",
              "      <td>0</td>\n",
              "      <td>0</td>\n",
              "      <td>14</td>\n",
              "      <td>31</td>\n",
              "      <td>19</td>\n",
              "      <td>12</td>\n",
              "      <td>3</td>\n",
              "      <td>1</td>\n",
              "      <td>0</td>\n",
              "      <td>0</td>\n",
              "    </tr>\n",
              "  </tbody>\n",
              "</table>\n",
              "</div>\n",
              "      <button class=\"colab-df-convert\" onclick=\"convertToInteractive('df-78a5eb64-4386-4b9d-9dfa-71776cb5ef20')\"\n",
              "              title=\"Convert this dataframe to an interactive table.\"\n",
              "              style=\"display:none;\">\n",
              "        \n",
              "  <svg xmlns=\"http://www.w3.org/2000/svg\" height=\"24px\"viewBox=\"0 0 24 24\"\n",
              "       width=\"24px\">\n",
              "    <path d=\"M0 0h24v24H0V0z\" fill=\"none\"/>\n",
              "    <path d=\"M18.56 5.44l.94 2.06.94-2.06 2.06-.94-2.06-.94-.94-2.06-.94 2.06-2.06.94zm-11 1L8.5 8.5l.94-2.06 2.06-.94-2.06-.94L8.5 2.5l-.94 2.06-2.06.94zm10 10l.94 2.06.94-2.06 2.06-.94-2.06-.94-.94-2.06-.94 2.06-2.06.94z\"/><path d=\"M17.41 7.96l-1.37-1.37c-.4-.4-.92-.59-1.43-.59-.52 0-1.04.2-1.43.59L10.3 9.45l-7.72 7.72c-.78.78-.78 2.05 0 2.83L4 21.41c.39.39.9.59 1.41.59.51 0 1.02-.2 1.41-.59l7.78-7.78 2.81-2.81c.8-.78.8-2.07 0-2.86zM5.41 20L4 18.59l7.72-7.72 1.47 1.35L5.41 20z\"/>\n",
              "  </svg>\n",
              "      </button>\n",
              "      \n",
              "  <style>\n",
              "    .colab-df-container {\n",
              "      display:flex;\n",
              "      flex-wrap:wrap;\n",
              "      gap: 12px;\n",
              "    }\n",
              "\n",
              "    .colab-df-convert {\n",
              "      background-color: #E8F0FE;\n",
              "      border: none;\n",
              "      border-radius: 50%;\n",
              "      cursor: pointer;\n",
              "      display: none;\n",
              "      fill: #1967D2;\n",
              "      height: 32px;\n",
              "      padding: 0 0 0 0;\n",
              "      width: 32px;\n",
              "    }\n",
              "\n",
              "    .colab-df-convert:hover {\n",
              "      background-color: #E2EBFA;\n",
              "      box-shadow: 0px 1px 2px rgba(60, 64, 67, 0.3), 0px 1px 3px 1px rgba(60, 64, 67, 0.15);\n",
              "      fill: #174EA6;\n",
              "    }\n",
              "\n",
              "    [theme=dark] .colab-df-convert {\n",
              "      background-color: #3B4455;\n",
              "      fill: #D2E3FC;\n",
              "    }\n",
              "\n",
              "    [theme=dark] .colab-df-convert:hover {\n",
              "      background-color: #434B5C;\n",
              "      box-shadow: 0px 1px 3px 1px rgba(0, 0, 0, 0.15);\n",
              "      filter: drop-shadow(0px 1px 2px rgba(0, 0, 0, 0.3));\n",
              "      fill: #FFFFFF;\n",
              "    }\n",
              "  </style>\n",
              "\n",
              "      <script>\n",
              "        const buttonEl =\n",
              "          document.querySelector('#df-78a5eb64-4386-4b9d-9dfa-71776cb5ef20 button.colab-df-convert');\n",
              "        buttonEl.style.display =\n",
              "          google.colab.kernel.accessAllowed ? 'block' : 'none';\n",
              "\n",
              "        async function convertToInteractive(key) {\n",
              "          const element = document.querySelector('#df-78a5eb64-4386-4b9d-9dfa-71776cb5ef20');\n",
              "          const dataTable =\n",
              "            await google.colab.kernel.invokeFunction('convertToInteractive',\n",
              "                                                     [key], {});\n",
              "          if (!dataTable) return;\n",
              "\n",
              "          const docLinkHtml = 'Like what you see? Visit the ' +\n",
              "            '<a target=\"_blank\" href=https://colab.research.google.com/notebooks/data_table.ipynb>data table notebook</a>'\n",
              "            + ' to learn more about interactive tables.';\n",
              "          element.innerHTML = '';\n",
              "          dataTable['output_type'] = 'display_data';\n",
              "          await google.colab.output.renderOutput(dataTable, element);\n",
              "          const docLink = document.createElement('div');\n",
              "          docLink.innerHTML = docLinkHtml;\n",
              "          element.appendChild(docLink);\n",
              "        }\n",
              "      </script>\n",
              "    </div>\n",
              "  </div>\n",
              "  "
            ]
          },
          "metadata": {},
          "execution_count": 390
        }
      ]
    },
    {
      "cell_type": "code",
      "source": [
        "X = c_dataset.iloc[:, 1:13].values"
      ],
      "metadata": {
        "id": "9h9LKwhvTV6R"
      },
      "execution_count": null,
      "outputs": []
    },
    {
      "cell_type": "code",
      "source": [
        "Y = c_dataset.iloc[:, -1].values"
      ],
      "metadata": {
        "id": "p434A7YWTV-_"
      },
      "execution_count": null,
      "outputs": []
    },
    {
      "cell_type": "code",
      "source": [
        "#before cleaning wrong values\n",
        "c_dataset.tail()"
      ],
      "metadata": {
        "colab": {
          "base_uri": "https://localhost:8080/",
          "height": 206
        },
        "id": "s9ITSkVuWlu7",
        "outputId": "a2ae173f-9b67-48eb-844f-e7ba38cc744b"
      },
      "execution_count": null,
      "outputs": [
        {
          "output_type": "execute_result",
          "data": {
            "text/plain": [
              "     Unnamed: 0  location  country  gender   age  vis_wuhan  from_wuhan  \\\n",
              "858         858        48        3       2  24.0          0           0   \n",
              "859         859         0        0       2  35.0          0           0   \n",
              "860         860         3        1       1  49.4          0           0   \n",
              "861         861        24        9       1  49.4          0           0   \n",
              "862         862        15       27       1  70.0          0           0   \n",
              "\n",
              "     symptom1  symptom2  symptom3  symptom4  symptom5  symptom6  diff_sym_hos  \\\n",
              "858        14        31        19        12         3         1             0   \n",
              "859        14        31        19        12         3         1             0   \n",
              "860        14        31        19        12         3         1             0   \n",
              "861        14        31        19        12         3         1             0   \n",
              "862        14        31        19        12         3         1             0   \n",
              "\n",
              "     result  \n",
              "858       1  \n",
              "859       0  \n",
              "860       0  \n",
              "861       0  \n",
              "862       0  "
            ],
            "text/html": [
              "\n",
              "  <div id=\"df-22333c55-2c24-43f2-bdc1-2beebce58097\">\n",
              "    <div class=\"colab-df-container\">\n",
              "      <div>\n",
              "<style scoped>\n",
              "    .dataframe tbody tr th:only-of-type {\n",
              "        vertical-align: middle;\n",
              "    }\n",
              "\n",
              "    .dataframe tbody tr th {\n",
              "        vertical-align: top;\n",
              "    }\n",
              "\n",
              "    .dataframe thead th {\n",
              "        text-align: right;\n",
              "    }\n",
              "</style>\n",
              "<table border=\"1\" class=\"dataframe\">\n",
              "  <thead>\n",
              "    <tr style=\"text-align: right;\">\n",
              "      <th></th>\n",
              "      <th>Unnamed: 0</th>\n",
              "      <th>location</th>\n",
              "      <th>country</th>\n",
              "      <th>gender</th>\n",
              "      <th>age</th>\n",
              "      <th>vis_wuhan</th>\n",
              "      <th>from_wuhan</th>\n",
              "      <th>symptom1</th>\n",
              "      <th>symptom2</th>\n",
              "      <th>symptom3</th>\n",
              "      <th>symptom4</th>\n",
              "      <th>symptom5</th>\n",
              "      <th>symptom6</th>\n",
              "      <th>diff_sym_hos</th>\n",
              "      <th>result</th>\n",
              "    </tr>\n",
              "  </thead>\n",
              "  <tbody>\n",
              "    <tr>\n",
              "      <th>858</th>\n",
              "      <td>858</td>\n",
              "      <td>48</td>\n",
              "      <td>3</td>\n",
              "      <td>2</td>\n",
              "      <td>24.0</td>\n",
              "      <td>0</td>\n",
              "      <td>0</td>\n",
              "      <td>14</td>\n",
              "      <td>31</td>\n",
              "      <td>19</td>\n",
              "      <td>12</td>\n",
              "      <td>3</td>\n",
              "      <td>1</td>\n",
              "      <td>0</td>\n",
              "      <td>1</td>\n",
              "    </tr>\n",
              "    <tr>\n",
              "      <th>859</th>\n",
              "      <td>859</td>\n",
              "      <td>0</td>\n",
              "      <td>0</td>\n",
              "      <td>2</td>\n",
              "      <td>35.0</td>\n",
              "      <td>0</td>\n",
              "      <td>0</td>\n",
              "      <td>14</td>\n",
              "      <td>31</td>\n",
              "      <td>19</td>\n",
              "      <td>12</td>\n",
              "      <td>3</td>\n",
              "      <td>1</td>\n",
              "      <td>0</td>\n",
              "      <td>0</td>\n",
              "    </tr>\n",
              "    <tr>\n",
              "      <th>860</th>\n",
              "      <td>860</td>\n",
              "      <td>3</td>\n",
              "      <td>1</td>\n",
              "      <td>1</td>\n",
              "      <td>49.4</td>\n",
              "      <td>0</td>\n",
              "      <td>0</td>\n",
              "      <td>14</td>\n",
              "      <td>31</td>\n",
              "      <td>19</td>\n",
              "      <td>12</td>\n",
              "      <td>3</td>\n",
              "      <td>1</td>\n",
              "      <td>0</td>\n",
              "      <td>0</td>\n",
              "    </tr>\n",
              "    <tr>\n",
              "      <th>861</th>\n",
              "      <td>861</td>\n",
              "      <td>24</td>\n",
              "      <td>9</td>\n",
              "      <td>1</td>\n",
              "      <td>49.4</td>\n",
              "      <td>0</td>\n",
              "      <td>0</td>\n",
              "      <td>14</td>\n",
              "      <td>31</td>\n",
              "      <td>19</td>\n",
              "      <td>12</td>\n",
              "      <td>3</td>\n",
              "      <td>1</td>\n",
              "      <td>0</td>\n",
              "      <td>0</td>\n",
              "    </tr>\n",
              "    <tr>\n",
              "      <th>862</th>\n",
              "      <td>862</td>\n",
              "      <td>15</td>\n",
              "      <td>27</td>\n",
              "      <td>1</td>\n",
              "      <td>70.0</td>\n",
              "      <td>0</td>\n",
              "      <td>0</td>\n",
              "      <td>14</td>\n",
              "      <td>31</td>\n",
              "      <td>19</td>\n",
              "      <td>12</td>\n",
              "      <td>3</td>\n",
              "      <td>1</td>\n",
              "      <td>0</td>\n",
              "      <td>0</td>\n",
              "    </tr>\n",
              "  </tbody>\n",
              "</table>\n",
              "</div>\n",
              "      <button class=\"colab-df-convert\" onclick=\"convertToInteractive('df-22333c55-2c24-43f2-bdc1-2beebce58097')\"\n",
              "              title=\"Convert this dataframe to an interactive table.\"\n",
              "              style=\"display:none;\">\n",
              "        \n",
              "  <svg xmlns=\"http://www.w3.org/2000/svg\" height=\"24px\"viewBox=\"0 0 24 24\"\n",
              "       width=\"24px\">\n",
              "    <path d=\"M0 0h24v24H0V0z\" fill=\"none\"/>\n",
              "    <path d=\"M18.56 5.44l.94 2.06.94-2.06 2.06-.94-2.06-.94-.94-2.06-.94 2.06-2.06.94zm-11 1L8.5 8.5l.94-2.06 2.06-.94-2.06-.94L8.5 2.5l-.94 2.06-2.06.94zm10 10l.94 2.06.94-2.06 2.06-.94-2.06-.94-.94-2.06-.94 2.06-2.06.94z\"/><path d=\"M17.41 7.96l-1.37-1.37c-.4-.4-.92-.59-1.43-.59-.52 0-1.04.2-1.43.59L10.3 9.45l-7.72 7.72c-.78.78-.78 2.05 0 2.83L4 21.41c.39.39.9.59 1.41.59.51 0 1.02-.2 1.41-.59l7.78-7.78 2.81-2.81c.8-.78.8-2.07 0-2.86zM5.41 20L4 18.59l7.72-7.72 1.47 1.35L5.41 20z\"/>\n",
              "  </svg>\n",
              "      </button>\n",
              "      \n",
              "  <style>\n",
              "    .colab-df-container {\n",
              "      display:flex;\n",
              "      flex-wrap:wrap;\n",
              "      gap: 12px;\n",
              "    }\n",
              "\n",
              "    .colab-df-convert {\n",
              "      background-color: #E8F0FE;\n",
              "      border: none;\n",
              "      border-radius: 50%;\n",
              "      cursor: pointer;\n",
              "      display: none;\n",
              "      fill: #1967D2;\n",
              "      height: 32px;\n",
              "      padding: 0 0 0 0;\n",
              "      width: 32px;\n",
              "    }\n",
              "\n",
              "    .colab-df-convert:hover {\n",
              "      background-color: #E2EBFA;\n",
              "      box-shadow: 0px 1px 2px rgba(60, 64, 67, 0.3), 0px 1px 3px 1px rgba(60, 64, 67, 0.15);\n",
              "      fill: #174EA6;\n",
              "    }\n",
              "\n",
              "    [theme=dark] .colab-df-convert {\n",
              "      background-color: #3B4455;\n",
              "      fill: #D2E3FC;\n",
              "    }\n",
              "\n",
              "    [theme=dark] .colab-df-convert:hover {\n",
              "      background-color: #434B5C;\n",
              "      box-shadow: 0px 1px 3px 1px rgba(0, 0, 0, 0.15);\n",
              "      filter: drop-shadow(0px 1px 2px rgba(0, 0, 0, 0.3));\n",
              "      fill: #FFFFFF;\n",
              "    }\n",
              "  </style>\n",
              "\n",
              "      <script>\n",
              "        const buttonEl =\n",
              "          document.querySelector('#df-22333c55-2c24-43f2-bdc1-2beebce58097 button.colab-df-convert');\n",
              "        buttonEl.style.display =\n",
              "          google.colab.kernel.accessAllowed ? 'block' : 'none';\n",
              "\n",
              "        async function convertToInteractive(key) {\n",
              "          const element = document.querySelector('#df-22333c55-2c24-43f2-bdc1-2beebce58097');\n",
              "          const dataTable =\n",
              "            await google.colab.kernel.invokeFunction('convertToInteractive',\n",
              "                                                     [key], {});\n",
              "          if (!dataTable) return;\n",
              "\n",
              "          const docLinkHtml = 'Like what you see? Visit the ' +\n",
              "            '<a target=\"_blank\" href=https://colab.research.google.com/notebooks/data_table.ipynb>data table notebook</a>'\n",
              "            + ' to learn more about interactive tables.';\n",
              "          element.innerHTML = '';\n",
              "          dataTable['output_type'] = 'display_data';\n",
              "          await google.colab.output.renderOutput(dataTable, element);\n",
              "          const docLink = document.createElement('div');\n",
              "          docLink.innerHTML = docLinkHtml;\n",
              "          element.appendChild(docLink);\n",
              "        }\n",
              "      </script>\n",
              "    </div>\n",
              "  </div>\n",
              "  "
            ]
          },
          "metadata": {},
          "execution_count": 395
        }
      ]
    },
    {
      "cell_type": "code",
      "source": [
        "dups_color = c_dataset.pivot_table(columns=['gender'], aggfunc='size')\n",
        "print(dups_color)"
      ],
      "metadata": {
        "colab": {
          "base_uri": "https://localhost:8080/"
        },
        "id": "yo-w-gcmXIKR",
        "outputId": "8be11178-d057-47a8-9366-5f906ec1c34b"
      },
      "execution_count": null,
      "outputs": [
        {
          "output_type": "stream",
          "name": "stdout",
          "text": [
            "gender\n",
            "0    302\n",
            "1    389\n",
            "2    172\n",
            "dtype: int64\n"
          ]
        }
      ]
    },
    {
      "cell_type": "code",
      "source": [
        "features = [\"location\" ,\"country\",\"gender\",\"age\",\"vis_wuhan\",\"from_wuhan\",\"symptom1\",\"symptom2\",\"symptom3\",\"symptom4\",\\\n",
        "                \"symptom5\",\"symptom6\",\"diff_sym_hos\"]"
      ],
      "metadata": {
        "id": "w4Dyd4s8UDgG"
      },
      "execution_count": null,
      "outputs": []
    },
    {
      "cell_type": "code",
      "source": [
        "#cleaning wrong values\n",
        "#removing data with gender==2\n",
        "c_dataset = c_dataset.loc[c_dataset[\"gender\"] < 2]\n",
        "dups_color = c_dataset.pivot_table(columns=['gender'], aggfunc='size')\n",
        "print(dups_color)\n",
        "\n",
        "X_without_gender_2 = c_dataset.iloc[:, 1:14].values\n",
        "y_without_gender_2 = c_dataset.iloc[:, -1].values"
      ],
      "metadata": {
        "colab": {
          "base_uri": "https://localhost:8080/"
        },
        "id": "0g7lxrvxUDhl",
        "outputId": "06b5843e-4b15-4c27-a207-89aa6d2f6846"
      },
      "execution_count": null,
      "outputs": [
        {
          "output_type": "stream",
          "name": "stdout",
          "text": [
            "gender\n",
            "0    302\n",
            "1    389\n",
            "dtype: int64\n"
          ]
        }
      ]
    },
    {
      "cell_type": "code",
      "source": [
        "#show data is clean now\n",
        "c_dataset.tail()"
      ],
      "metadata": {
        "colab": {
          "base_uri": "https://localhost:8080/",
          "height": 206
        },
        "id": "K3PA517HUDlf",
        "outputId": "e4dc7100-390d-49df-ad23-e785196fe5f3"
      },
      "execution_count": null,
      "outputs": [
        {
          "output_type": "execute_result",
          "data": {
            "text/plain": [
              "     Unnamed: 0  location  country  gender   age  vis_wuhan  from_wuhan  \\\n",
              "855         855        10        4       0  49.4          0           0   \n",
              "856         856        10        4       0  49.4          0           0   \n",
              "860         860         3        1       1  49.4          0           0   \n",
              "861         861        24        9       1  49.4          0           0   \n",
              "862         862        15       27       1  70.0          0           0   \n",
              "\n",
              "     symptom1  symptom2  symptom3  symptom4  symptom5  symptom6  diff_sym_hos  \\\n",
              "855        14        31        19        12         3         1             0   \n",
              "856        14        31        19        12         3         1             0   \n",
              "860        14        31        19        12         3         1             0   \n",
              "861        14        31        19        12         3         1             0   \n",
              "862        14        31        19        12         3         1             0   \n",
              "\n",
              "     result  \n",
              "855       0  \n",
              "856       0  \n",
              "860       0  \n",
              "861       0  \n",
              "862       0  "
            ],
            "text/html": [
              "\n",
              "  <div id=\"df-7a1921aa-3b54-4d07-8b0d-48b235b1731a\">\n",
              "    <div class=\"colab-df-container\">\n",
              "      <div>\n",
              "<style scoped>\n",
              "    .dataframe tbody tr th:only-of-type {\n",
              "        vertical-align: middle;\n",
              "    }\n",
              "\n",
              "    .dataframe tbody tr th {\n",
              "        vertical-align: top;\n",
              "    }\n",
              "\n",
              "    .dataframe thead th {\n",
              "        text-align: right;\n",
              "    }\n",
              "</style>\n",
              "<table border=\"1\" class=\"dataframe\">\n",
              "  <thead>\n",
              "    <tr style=\"text-align: right;\">\n",
              "      <th></th>\n",
              "      <th>Unnamed: 0</th>\n",
              "      <th>location</th>\n",
              "      <th>country</th>\n",
              "      <th>gender</th>\n",
              "      <th>age</th>\n",
              "      <th>vis_wuhan</th>\n",
              "      <th>from_wuhan</th>\n",
              "      <th>symptom1</th>\n",
              "      <th>symptom2</th>\n",
              "      <th>symptom3</th>\n",
              "      <th>symptom4</th>\n",
              "      <th>symptom5</th>\n",
              "      <th>symptom6</th>\n",
              "      <th>diff_sym_hos</th>\n",
              "      <th>result</th>\n",
              "    </tr>\n",
              "  </thead>\n",
              "  <tbody>\n",
              "    <tr>\n",
              "      <th>855</th>\n",
              "      <td>855</td>\n",
              "      <td>10</td>\n",
              "      <td>4</td>\n",
              "      <td>0</td>\n",
              "      <td>49.4</td>\n",
              "      <td>0</td>\n",
              "      <td>0</td>\n",
              "      <td>14</td>\n",
              "      <td>31</td>\n",
              "      <td>19</td>\n",
              "      <td>12</td>\n",
              "      <td>3</td>\n",
              "      <td>1</td>\n",
              "      <td>0</td>\n",
              "      <td>0</td>\n",
              "    </tr>\n",
              "    <tr>\n",
              "      <th>856</th>\n",
              "      <td>856</td>\n",
              "      <td>10</td>\n",
              "      <td>4</td>\n",
              "      <td>0</td>\n",
              "      <td>49.4</td>\n",
              "      <td>0</td>\n",
              "      <td>0</td>\n",
              "      <td>14</td>\n",
              "      <td>31</td>\n",
              "      <td>19</td>\n",
              "      <td>12</td>\n",
              "      <td>3</td>\n",
              "      <td>1</td>\n",
              "      <td>0</td>\n",
              "      <td>0</td>\n",
              "    </tr>\n",
              "    <tr>\n",
              "      <th>860</th>\n",
              "      <td>860</td>\n",
              "      <td>3</td>\n",
              "      <td>1</td>\n",
              "      <td>1</td>\n",
              "      <td>49.4</td>\n",
              "      <td>0</td>\n",
              "      <td>0</td>\n",
              "      <td>14</td>\n",
              "      <td>31</td>\n",
              "      <td>19</td>\n",
              "      <td>12</td>\n",
              "      <td>3</td>\n",
              "      <td>1</td>\n",
              "      <td>0</td>\n",
              "      <td>0</td>\n",
              "    </tr>\n",
              "    <tr>\n",
              "      <th>861</th>\n",
              "      <td>861</td>\n",
              "      <td>24</td>\n",
              "      <td>9</td>\n",
              "      <td>1</td>\n",
              "      <td>49.4</td>\n",
              "      <td>0</td>\n",
              "      <td>0</td>\n",
              "      <td>14</td>\n",
              "      <td>31</td>\n",
              "      <td>19</td>\n",
              "      <td>12</td>\n",
              "      <td>3</td>\n",
              "      <td>1</td>\n",
              "      <td>0</td>\n",
              "      <td>0</td>\n",
              "    </tr>\n",
              "    <tr>\n",
              "      <th>862</th>\n",
              "      <td>862</td>\n",
              "      <td>15</td>\n",
              "      <td>27</td>\n",
              "      <td>1</td>\n",
              "      <td>70.0</td>\n",
              "      <td>0</td>\n",
              "      <td>0</td>\n",
              "      <td>14</td>\n",
              "      <td>31</td>\n",
              "      <td>19</td>\n",
              "      <td>12</td>\n",
              "      <td>3</td>\n",
              "      <td>1</td>\n",
              "      <td>0</td>\n",
              "      <td>0</td>\n",
              "    </tr>\n",
              "  </tbody>\n",
              "</table>\n",
              "</div>\n",
              "      <button class=\"colab-df-convert\" onclick=\"convertToInteractive('df-7a1921aa-3b54-4d07-8b0d-48b235b1731a')\"\n",
              "              title=\"Convert this dataframe to an interactive table.\"\n",
              "              style=\"display:none;\">\n",
              "        \n",
              "  <svg xmlns=\"http://www.w3.org/2000/svg\" height=\"24px\"viewBox=\"0 0 24 24\"\n",
              "       width=\"24px\">\n",
              "    <path d=\"M0 0h24v24H0V0z\" fill=\"none\"/>\n",
              "    <path d=\"M18.56 5.44l.94 2.06.94-2.06 2.06-.94-2.06-.94-.94-2.06-.94 2.06-2.06.94zm-11 1L8.5 8.5l.94-2.06 2.06-.94-2.06-.94L8.5 2.5l-.94 2.06-2.06.94zm10 10l.94 2.06.94-2.06 2.06-.94-2.06-.94-.94-2.06-.94 2.06-2.06.94z\"/><path d=\"M17.41 7.96l-1.37-1.37c-.4-.4-.92-.59-1.43-.59-.52 0-1.04.2-1.43.59L10.3 9.45l-7.72 7.72c-.78.78-.78 2.05 0 2.83L4 21.41c.39.39.9.59 1.41.59.51 0 1.02-.2 1.41-.59l7.78-7.78 2.81-2.81c.8-.78.8-2.07 0-2.86zM5.41 20L4 18.59l7.72-7.72 1.47 1.35L5.41 20z\"/>\n",
              "  </svg>\n",
              "      </button>\n",
              "      \n",
              "  <style>\n",
              "    .colab-df-container {\n",
              "      display:flex;\n",
              "      flex-wrap:wrap;\n",
              "      gap: 12px;\n",
              "    }\n",
              "\n",
              "    .colab-df-convert {\n",
              "      background-color: #E8F0FE;\n",
              "      border: none;\n",
              "      border-radius: 50%;\n",
              "      cursor: pointer;\n",
              "      display: none;\n",
              "      fill: #1967D2;\n",
              "      height: 32px;\n",
              "      padding: 0 0 0 0;\n",
              "      width: 32px;\n",
              "    }\n",
              "\n",
              "    .colab-df-convert:hover {\n",
              "      background-color: #E2EBFA;\n",
              "      box-shadow: 0px 1px 2px rgba(60, 64, 67, 0.3), 0px 1px 3px 1px rgba(60, 64, 67, 0.15);\n",
              "      fill: #174EA6;\n",
              "    }\n",
              "\n",
              "    [theme=dark] .colab-df-convert {\n",
              "      background-color: #3B4455;\n",
              "      fill: #D2E3FC;\n",
              "    }\n",
              "\n",
              "    [theme=dark] .colab-df-convert:hover {\n",
              "      background-color: #434B5C;\n",
              "      box-shadow: 0px 1px 3px 1px rgba(0, 0, 0, 0.15);\n",
              "      filter: drop-shadow(0px 1px 2px rgba(0, 0, 0, 0.3));\n",
              "      fill: #FFFFFF;\n",
              "    }\n",
              "  </style>\n",
              "\n",
              "      <script>\n",
              "        const buttonEl =\n",
              "          document.querySelector('#df-7a1921aa-3b54-4d07-8b0d-48b235b1731a button.colab-df-convert');\n",
              "        buttonEl.style.display =\n",
              "          google.colab.kernel.accessAllowed ? 'block' : 'none';\n",
              "\n",
              "        async function convertToInteractive(key) {\n",
              "          const element = document.querySelector('#df-7a1921aa-3b54-4d07-8b0d-48b235b1731a');\n",
              "          const dataTable =\n",
              "            await google.colab.kernel.invokeFunction('convertToInteractive',\n",
              "                                                     [key], {});\n",
              "          if (!dataTable) return;\n",
              "\n",
              "          const docLinkHtml = 'Like what you see? Visit the ' +\n",
              "            '<a target=\"_blank\" href=https://colab.research.google.com/notebooks/data_table.ipynb>data table notebook</a>'\n",
              "            + ' to learn more about interactive tables.';\n",
              "          element.innerHTML = '';\n",
              "          dataTable['output_type'] = 'display_data';\n",
              "          await google.colab.output.renderOutput(dataTable, element);\n",
              "          const docLink = document.createElement('div');\n",
              "          docLink.innerHTML = docLinkHtml;\n",
              "          element.appendChild(docLink);\n",
              "        }\n",
              "      </script>\n",
              "    </div>\n",
              "  </div>\n",
              "  "
            ]
          },
          "metadata": {},
          "execution_count": 399
        }
      ]
    },
    {
      "cell_type": "markdown",
      "source": [],
      "metadata": {
        "id": "wszTm0lGFwpU"
      }
    },
    {
      "cell_type": "code",
      "source": [
        "#divide the data into three partitions: training, validation, and testing.\n",
        "#using a train test split to split data to train and test then using the cross validation\n"
      ],
      "metadata": {
        "id": "lRhhP37Uj0xo"
      },
      "execution_count": null,
      "outputs": []
    },
    {
      "cell_type": "code",
      "source": [
        "X_train, X_test, y_train, y_test = train_test_split(X_without_gender_2, y_without_gender_2, test_size=0.1,random_state = 42 ,shuffle = True)\n",
        "\n"
      ],
      "metadata": {
        "id": "SnTcyKZMXW0f"
      },
      "execution_count": null,
      "outputs": []
    },
    {
      "cell_type": "code",
      "source": [
        "X_train"
      ],
      "metadata": {
        "colab": {
          "base_uri": "https://localhost:8080/"
        },
        "id": "-Cxpjobcwnf7",
        "outputId": "44888629-6e69-4b73-bca6-e2557b8114f7"
      },
      "execution_count": null,
      "outputs": [
        {
          "output_type": "execute_result",
          "data": {
            "text/plain": [
              "array([[ 56.,  18.,   1., ...,   3.,   1.,   2.],\n",
              "       [137.,   8.,   1., ...,   3.,   1.,  13.],\n",
              "       [120.,  12.,   1., ...,   3.,   1.,   0.],\n",
              "       ...,\n",
              "       [ 44.,  18.,   1., ...,   3.,   1.,   0.],\n",
              "       [108.,  24.,   1., ...,   3.,   1.,   0.],\n",
              "       [135.,   8.,   0., ...,   3.,   1.,   0.]])"
            ]
          },
          "metadata": {},
          "execution_count": 402
        }
      ]
    },
    {
      "cell_type": "code",
      "source": [
        "X_test"
      ],
      "metadata": {
        "colab": {
          "base_uri": "https://localhost:8080/"
        },
        "id": "xLoFGgwIw1Zl",
        "outputId": "9e60532f-3b41-4b3e-c751-a833e1421115"
      },
      "execution_count": null,
      "outputs": [
        {
          "output_type": "execute_result",
          "data": {
            "text/plain": [
              "array([[108. ,  24. ,   1. ,  25. ,   0. ,   0. ,  19. ,  31. ,  19. ,\n",
              "         12. ,   3. ,   1. ,   0. ],\n",
              "       [ 10. ,   4. ,   0. ,  49.4,   0. ,   0. ,  14. ,  31. ,  19. ,\n",
              "         12. ,   3. ,   1. ,   0. ],\n",
              "       [ 78. ,  18. ,   0. ,  65. ,   0. ,   0. ,   6. ,  21. ,   6. ,\n",
              "         12. ,   3. ,   1. ,   2. ],\n",
              "       [ 78. ,  18. ,   0. ,  65. ,   0. ,   0. ,   6. ,  31. ,  19. ,\n",
              "         12. ,   3. ,   1. ,   0. ],\n",
              "       [ 49. ,  18. ,   1. ,  55. ,   0. ,   0. ,   6. ,  31. ,  19. ,\n",
              "         12. ,   3. ,   1. ,   1. ],\n",
              "       [117. ,  18. ,   1. ,  35. ,   0. ,   0. ,   6. ,  17. ,  19. ,\n",
              "         12. ,   3. ,   1. ,   1. ],\n",
              "       [108. ,  24. ,   1. ,  37. ,   0. ,   0. ,  14. ,  31. ,  19. ,\n",
              "         12. ,   3. ,   1. ,   9. ],\n",
              "       [ 44. ,  18. ,   0. ,  45. ,   1. ,   1. ,   6. ,   7. ,  19. ,\n",
              "         12. ,   3. ,   1. ,   1. ],\n",
              "       [ 44. ,  18. ,   1. ,  85. ,   0. ,   0. ,   2. ,  12. ,  19. ,\n",
              "         12. ,   3. ,   1. ,   2. ],\n",
              "       [117. ,  18. ,   1. ,  65. ,   0. ,   0. ,   6. ,   7. ,  19. ,\n",
              "         12. ,   3. ,   1. ,   0. ],\n",
              "       [ 78. ,  18. ,   1. ,  75. ,   0. ,   0. ,   6. ,   7. ,  13. ,\n",
              "         12. ,   3. ,   1. ,   1. ],\n",
              "       [ 18. ,  11. ,   1. ,  72. ,   0. ,   0. ,  14. ,  31. ,  19. ,\n",
              "         12. ,   3. ,   1. ,   0. ],\n",
              "       [114. ,  29. ,   0. ,  54. ,   0. ,   1. ,  14. ,  31. ,  19. ,\n",
              "         12. ,   3. ,   1. ,   0. ],\n",
              "       [116. ,   8. ,   0. ,  59. ,   1. ,   0. ,  14. ,  31. ,  19. ,\n",
              "         12. ,   3. ,   1. ,   0. ],\n",
              "       [  9. ,  12. ,   1. ,  49.4,   0. ,   0. ,  14. ,  31. ,  19. ,\n",
              "         12. ,   3. ,   1. ,   0. ],\n",
              "       [108. ,  24. ,   0. ,  61. ,   0. ,   0. ,  14. ,  31. ,  19. ,\n",
              "         12. ,   3. ,   1. ,   0. ],\n",
              "       [114. ,  29. ,   1. ,  25. ,   0. ,   0. ,   6. ,   7. ,  19. ,\n",
              "         12. ,   3. ,   1. ,   0. ],\n",
              "       [ 45. ,  13. ,   1. ,  48. ,   0. ,   0. ,  14. ,  31. ,  19. ,\n",
              "         12. ,   3. ,   1. ,   1. ],\n",
              "       [ 11. ,  25. ,   0. ,  36. ,   0. ,   0. ,  14. ,  31. ,  19. ,\n",
              "         12. ,   3. ,   1. ,   0. ],\n",
              "       [ 10. ,   4. ,   0. ,  49.4,   0. ,   0. ,  14. ,  31. ,  19. ,\n",
              "         12. ,   3. ,   1. ,   0. ],\n",
              "       [106. ,  23. ,   0. ,  56. ,   0. ,   0. ,  14. ,  31. ,  19. ,\n",
              "         12. ,   3. ,   1. ,   4. ],\n",
              "       [ 44. ,  18. ,   1. ,  65. ,   0. ,   0. ,   6. ,  17. ,  15. ,\n",
              "         12. ,   3. ,   1. ,   0. ],\n",
              "       [ 77. ,  18. ,   1. ,  65. ,   0. ,   0. ,   4. ,  12. ,  19. ,\n",
              "         12. ,   3. ,   1. ,   1. ],\n",
              "       [108. ,  24. ,   1. ,  30. ,   0. ,   0. ,  14. ,  31. ,  19. ,\n",
              "         12. ,   3. ,   1. ,   0. ],\n",
              "       [108. ,  24. ,   1. ,  82. ,   0. ,   0. ,   0. ,  31. ,  19. ,\n",
              "         12. ,   3. ,   1. ,   0. ],\n",
              "       [ 44. ,  18. ,   1. ,  45. ,   0. ,   0. ,   6. ,  31. ,  19. ,\n",
              "         12. ,   3. ,   1. ,   0. ],\n",
              "       [ 44. ,  18. ,   1. ,  75. ,   0. ,   0. ,   6. ,   7. ,   8. ,\n",
              "         12. ,   3. ,   1. ,   4. ],\n",
              "       [ 35. ,   8. ,   0. ,  50. ,   0. ,   0. ,  14. ,  31. ,  19. ,\n",
              "         12. ,   3. ,   1. ,   8. ],\n",
              "       [110. ,  28. ,   0. ,  45. ,   0. ,   0. ,   6. ,   7. ,  19. ,\n",
              "         12. ,   3. ,   1. ,   2. ],\n",
              "       [108. ,  24. ,   0. ,  34. ,   0. ,   0. ,  14. ,  31. ,  19. ,\n",
              "         12. ,   3. ,   1. ,   0. ],\n",
              "       [ 13. ,   8. ,   0. ,  69. ,   1. ,   0. ,  14. ,  31. ,  19. ,\n",
              "         12. ,   3. ,   1. ,  12. ],\n",
              "       [ 45. ,  13. ,   1. ,  23. ,   0. ,   0. ,  14. ,  31. ,  19. ,\n",
              "         12. ,   3. ,   1. ,   0. ],\n",
              "       [116. ,   8. ,   1. ,  49. ,   0. ,   0. ,  14. ,  31. ,  19. ,\n",
              "         12. ,   3. ,   1. ,   0. ],\n",
              "       [132. ,   8. ,   1. ,  49. ,   0. ,   0. ,  14. ,  31. ,  19. ,\n",
              "         12. ,   3. ,   1. ,   0. ],\n",
              "       [106. ,  23. ,   1. ,  40. ,   0. ,   0. ,  14. ,  31. ,  19. ,\n",
              "         12. ,   3. ,   1. ,   1. ],\n",
              "       [ 51. ,  18. ,   1. ,  55. ,   0. ,   0. ,  14. ,  31. ,  19. ,\n",
              "         12. ,   3. ,   1. ,   0. ],\n",
              "       [  1. ,  18. ,   1. ,  65. ,   0. ,   0. ,   6. ,  31. ,  19. ,\n",
              "         12. ,   3. ,   1. ,   0. ],\n",
              "       [108. ,  24. ,   0. ,  26. ,   0. ,   0. ,  14. ,  31. ,  19. ,\n",
              "         12. ,   3. ,   1. ,   0. ],\n",
              "       [ 59. ,  18. ,   1. ,  55. ,   0. ,   0. ,   2. ,  12. ,  19. ,\n",
              "         12. ,   3. ,   1. ,   1. ],\n",
              "       [ 13. ,   8. ,   1. ,  38. ,   1. ,   0. ,  14. ,  31. ,  19. ,\n",
              "         12. ,   3. ,   1. ,   3. ],\n",
              "       [ 44. ,  18. ,   0. ,  75. ,   0. ,   0. ,   2. ,  28. ,  19. ,\n",
              "         12. ,   3. ,   1. ,   4. ],\n",
              "       [135. ,   8. ,   0. ,  39. ,   1. ,   0. ,  14. ,  31. ,  19. ,\n",
              "         12. ,   3. ,   1. ,   0. ],\n",
              "       [106. ,  23. ,   0. ,  51. ,   0. ,   0. ,  14. ,  31. ,  19. ,\n",
              "         12. ,   3. ,   1. ,   0. ],\n",
              "       [ 26. ,  13. ,   1. ,  42. ,   0. ,   0. ,   6. ,   7. ,  19. ,\n",
              "         12. ,   3. ,   1. ,   0. ],\n",
              "       [129. ,  31. ,   0. ,  49.4,   0. ,   0. ,  14. ,  31. ,  19. ,\n",
              "         12. ,   3. ,   1. ,   0. ],\n",
              "       [ 45. ,  13. ,   0. ,  60. ,   0. ,   0. ,  14. ,  31. ,  19. ,\n",
              "         12. ,   3. ,   1. ,   1. ],\n",
              "       [123. ,  25. ,   1. ,  49.4,   0. ,   0. ,  14. ,  31. ,  19. ,\n",
              "         12. ,   3. ,   1. ,   0. ],\n",
              "       [120. ,  12. ,   0. ,  24. ,   0. ,   0. ,  14. ,  31. ,  19. ,\n",
              "         12. ,   3. ,   1. ,   0. ],\n",
              "       [ 40. ,   8. ,   0. ,   2. ,   1. ,   0. ,  14. ,  31. ,  19. ,\n",
              "         12. ,   3. ,   1. ,   1. ],\n",
              "       [114. ,  29. ,   0. ,  60. ,   0. ,   0. ,  14. ,  31. ,  19. ,\n",
              "         12. ,   3. ,   1. ,   0. ],\n",
              "       [ 95. ,  18. ,   1. ,  55. ,   0. ,   0. ,   6. ,  13. ,  19. ,\n",
              "         12. ,   3. ,   1. ,   1. ],\n",
              "       [ 99. ,   8. ,   0. ,  24. ,   1. ,   0. ,  14. ,  31. ,  19. ,\n",
              "         12. ,   3. ,   1. ,   0. ],\n",
              "       [118. ,   7. ,   0. ,  65. ,   0. ,   0. ,  14. ,  31. ,  19. ,\n",
              "         12. ,   3. ,   1. ,   0. ],\n",
              "       [ 13. ,   8. ,   0. ,  18. ,   1. ,   0. ,  14. ,  31. ,  19. ,\n",
              "         12. ,   3. ,   1. ,   1. ],\n",
              "       [116. ,   8. ,   1. ,  46. ,   0. ,   0. ,  14. ,  31. ,  19. ,\n",
              "         12. ,   3. ,   1. ,   0. ],\n",
              "       [ 11. ,  25. ,   0. ,  22. ,   0. ,   0. ,  14. ,  31. ,  19. ,\n",
              "         12. ,   3. ,   1. ,   0. ],\n",
              "       [ 45. ,  13. ,   1. ,  39. ,   0. ,   1. ,   6. ,  31. ,  19. ,\n",
              "         12. ,   3. ,   1. ,   1. ],\n",
              "       [106. ,  23. ,   0. ,  31. ,   1. ,   0. ,  14. ,  31. ,  19. ,\n",
              "         12. ,   3. ,   1. ,   0. ],\n",
              "       [124. ,   7. ,   0. ,  55. ,   0. ,   0. ,  14. ,  31. ,  19. ,\n",
              "         12. ,   3. ,   1. ,   0. ],\n",
              "       [ 45. ,  13. ,   1. ,  43. ,   0. ,   0. ,   2. ,   9. ,  18. ,\n",
              "         12. ,   3. ,   1. ,   2. ],\n",
              "       [ 42. ,   8. ,   1. ,  55. ,   0. ,   1. ,  14. ,  31. ,  19. ,\n",
              "         12. ,   3. ,   1. ,   0. ],\n",
              "       [128. ,  18. ,   1. ,  65. ,   0. ,   0. ,   6. ,  31. ,  19. ,\n",
              "         12. ,   3. ,   1. ,  -5. ],\n",
              "       [125. ,   2. ,   0. ,  25. ,   1. ,   0. ,  14. ,  31. ,  19. ,\n",
              "         12. ,   3. ,   1. ,   3. ],\n",
              "       [ 13. ,   8. ,   1. ,  49.4,   1. ,   0. ,  14. ,  31. ,  19. ,\n",
              "         12. ,   3. ,   1. ,   0. ],\n",
              "       [110. ,  28. ,   1. ,  25. ,   0. ,   0. ,  14. ,  31. ,  19. ,\n",
              "         12. ,   3. ,   1. ,   0. ],\n",
              "       [130. ,  13. ,   1. ,  24. ,   0. ,   0. ,   6. ,   7. ,  19. ,\n",
              "         12. ,   3. ,   1. ,   0. ],\n",
              "       [117. ,  18. ,   1. ,  65. ,   0. ,   0. ,   4. ,  10. ,  19. ,\n",
              "         12. ,   3. ,   1. ,   0. ],\n",
              "       [ 31. ,   8. ,   1. ,  43. ,   0. ,   0. ,  14. ,  31. ,  19. ,\n",
              "         12. ,   3. ,   1. ,   3. ],\n",
              "       [116. ,   8. ,   1. ,  78. ,   0. ,   0. ,  14. ,  31. ,  19. ,\n",
              "         12. ,   3. ,   1. ,   2. ],\n",
              "       [117. ,  18. ,   1. ,  75. ,   0. ,   0. ,   6. ,   7. ,  16. ,\n",
              "         12. ,   3. ,   1. ,   0. ]])"
            ]
          },
          "metadata": {},
          "execution_count": 372
        }
      ]
    },
    {
      "cell_type": "markdown",
      "source": [
        "\"\"\"\n",
        "\n",
        "important note:\n",
        "\n",
        "\n",
        "\n",
        "to run any model we should start run the notebook from the first cell to this cell then run the desired model classifier\n",
        "\n",
        "\n",
        "\n",
        "\n",
        "\n",
        "\n",
        "\n",
        "\"\"\""
      ],
      "metadata": {
        "id": "02wvplrv2nTx"
      }
    },
    {
      "cell_type": "code",
      "source": [
        "#1. K-Nearest Neighbors\n"
      ],
      "metadata": {
        "id": "35z-eJuH21TU"
      },
      "execution_count": null,
      "outputs": []
    },
    {
      "cell_type": "markdown",
      "source": [
        "1. K-Nearest Neighbors\n",
        "\n",
        "training the knn model using grid search and validate against training and testing using cross validation\n",
        "\n",
        "show each feature importance\n",
        "drop non important features\n",
        "\n",
        "using different metrics such as the precision, recall, F1-score, and ROC/AUC curves.\n"
      ],
      "metadata": {
        "id": "2dnMYPcc2wVN"
      }
    },
    {
      "cell_type": "code",
      "source": [
        "#validate a KNeighborsClassifier over multiple folds of c_dataset\n",
        "cross_v_scores = []\n",
        "i_range = list(range (2,11))\n",
        "\n",
        "for i in i_range:\n",
        "    scores = cross_val_score(KNeighborsClassifier() , X_train, y_train, cv = i,scoring='recall')\n",
        "    cross_v_scores.append(scores.mean())\n",
        "\n",
        "plt.plot(i_range, cross_v_scores)"
      ],
      "metadata": {
        "colab": {
          "base_uri": "https://localhost:8080/",
          "height": 282
        },
        "id": "ajPKX7mRXW-5",
        "outputId": "e2be3170-42af-4405-cc82-7831aeada4fa"
      },
      "execution_count": null,
      "outputs": [
        {
          "output_type": "execute_result",
          "data": {
            "text/plain": [
              "[<matplotlib.lines.Line2D at 0x7f60498608b0>]"
            ]
          },
          "metadata": {},
          "execution_count": 94
        },
        {
          "output_type": "display_data",
          "data": {
            "text/plain": [
              "<Figure size 432x288 with 1 Axes>"
            ],
            "image/png": "[encoded data removed]"
          },
          "metadata": {
            "needs_background": "light"
          }
        }
      ]
    },
    {
      "cell_type": "code",
      "source": [
        "#best cv =9"
      ],
      "metadata": {
        "id": "Sj8YIFX3kF0D"
      },
      "execution_count": null,
      "outputs": []
    },
    {
      "cell_type": "code",
      "source": [
        "# permutation feature importance with knn for classification\n",
        "from sklearn.datasets import make_classification\n",
        "from sklearn.neighbors import KNeighborsClassifier\n",
        "from sklearn.inspection import permutation_importance\n",
        "from matplotlib import pyplot\n",
        "# define dataset\n",
        "X, y = make_classification(n_samples=1000, n_features=14, n_informative=5, n_redundant=5, random_state=1)\n",
        "# define the model\n",
        "model = KNeighborsClassifier()\n",
        "# fit the model\n",
        "model.fit(X_train, y_train)\n",
        "# perform permutation importance\n",
        "results = permutation_importance(model, X_train, y_train, scoring='accuracy')\n",
        "# get importance\n",
        "importance = results.importances_mean\n",
        "# summarize feature importance\n",
        "for i,v in enumerate(importance):\n",
        " print('Feature: %0d, Score: %.5f' % (i,v))\n",
        "# plot feature importance\n",
        "pyplot.bar([x for x in range(len(importance))], importance)\n",
        "pyplot.show()"
      ],
      "metadata": {
        "colab": {
          "base_uri": "https://localhost:8080/",
          "height": 491
        },
        "id": "ZmHiDuB-URyL",
        "outputId": "0f52934f-2d29-45e2-fd7a-589af92ea2c5"
      },
      "execution_count": null,
      "outputs": [
        {
          "output_type": "stream",
          "name": "stdout",
          "text": [
            "Feature: 0, Score: 0.05507\n",
            "Feature: 1, Score: 0.02995\n",
            "Feature: 2, Score: 0.00129\n",
            "Feature: 3, Score: 0.16586\n",
            "Feature: 4, Score: 0.00000\n",
            "Feature: 5, Score: 0.00161\n",
            "Feature: 6, Score: -0.00032\n",
            "Feature: 7, Score: 0.00805\n",
            "Feature: 8, Score: -0.00354\n",
            "Feature: 9, Score: -0.00161\n",
            "Feature: 10, Score: 0.00000\n",
            "Feature: 11, Score: 0.00000\n",
            "Feature: 12, Score: 0.00193\n"
          ]
        },
        {
          "output_type": "display_data",
          "data": {
            "text/plain": [
              "<Figure size 432x288 with 1 Axes>"
            ],
            "image/png": "[encoded data removed]"
          },
          "metadata": {
            "needs_background": "light"
          }
        }
      ]
    },
    {
      "cell_type": "code",
      "source": [
        "features = [\"location\" ,\"country\",\"gender\",\"age\",\"vis_wuhan\",\"from_wuhan\",\"symptom1\",\"symptom2\",\"symptom3\",\"symptom4\",\\\n",
        "                \"symptom5\",\"symptom6\",\"diff_sym_hos\"]"
      ],
      "metadata": {
        "id": "HHjopEzmUZSJ"
      },
      "execution_count": null,
      "outputs": []
    },
    {
      "cell_type": "code",
      "source": [
        "#drop non important features\n",
        "c_dataset= c_dataset.drop(\"gender\", axis='columns')\n",
        "c_dataset= c_dataset.drop(\"symptom3\", axis='columns')\n",
        "c_dataset= c_dataset.drop(\"vis_wuhan\", axis='columns')\n",
        "c_dataset= c_dataset.drop(\"symptom4\", axis='columns')\n",
        "c_dataset= c_dataset.drop(\"symptom5\", axis='columns')\n",
        "c_dataset= c_dataset.drop(\"symptom6\", axis='columns')"
      ],
      "metadata": {
        "id": "cuAFQ44aUaRr"
      },
      "execution_count": null,
      "outputs": []
    },
    {
      "cell_type": "code",
      "source": [
        "c_dataset"
      ],
      "metadata": {
        "colab": {
          "base_uri": "https://localhost:8080/",
          "height": 423
        },
        "id": "WhA197yyVqUm",
        "outputId": "a796adb9-6b8d-4be3-f97e-7989b856b691"
      },
      "execution_count": null,
      "outputs": [
        {
          "output_type": "execute_result",
          "data": {
            "text/plain": [
              "     Unnamed: 0  location  country   age  from_wuhan  symptom1  symptom2  \\\n",
              "0             0       104        8  66.0           0        14        31   \n",
              "1             1       101        8  56.0           1        14        31   \n",
              "2             2       137        8  46.0           1        14        31   \n",
              "3             3       116        8  60.0           0        14        31   \n",
              "4             4       116        8  58.0           0        14        31   \n",
              "..          ...       ...      ...   ...         ...       ...       ...   \n",
              "855         855        10        4  49.4           0        14        31   \n",
              "856         856        10        4  49.4           0        14        31   \n",
              "860         860         3        1  49.4           0        14        31   \n",
              "861         861        24        9  49.4           0        14        31   \n",
              "862         862        15       27  70.0           0        14        31   \n",
              "\n",
              "     diff_sym_hos  result  \n",
              "0               8       1  \n",
              "1               0       0  \n",
              "2              13       0  \n",
              "3               0       0  \n",
              "4               0       0  \n",
              "..            ...     ...  \n",
              "855             0       0  \n",
              "856             0       0  \n",
              "860             0       0  \n",
              "861             0       0  \n",
              "862             0       0  \n",
              "\n",
              "[691 rows x 9 columns]"
            ],
            "text/html": [
              "\n",
              "  <div id=\"df-74462cd1-542c-48b4-95cd-eed23cf261e9\">\n",
              "    <div class=\"colab-df-container\">\n",
              "      <div>\n",
              "<style scoped>\n",
              "    .dataframe tbody tr th:only-of-type {\n",
              "        vertical-align: middle;\n",
              "    }\n",
              "\n",
              "    .dataframe tbody tr th {\n",
              "        vertical-align: top;\n",
              "    }\n",
              "\n",
              "    .dataframe thead th {\n",
              "        text-align: right;\n",
              "    }\n",
              "</style>\n",
              "<table border=\"1\" class=\"dataframe\">\n",
              "  <thead>\n",
              "    <tr style=\"text-align: right;\">\n",
              "      <th></th>\n",
              "      <th>Unnamed: 0</th>\n",
              "      <th>location</th>\n",
              "      <th>country</th>\n",
              "      <th>age</th>\n",
              "      <th>from_wuhan</th>\n",
              "      <th>symptom1</th>\n",
              "      <th>symptom2</th>\n",
              "      <th>diff_sym_hos</th>\n",
              "      <th>result</th>\n",
              "    </tr>\n",
              "  </thead>\n",
              "  <tbody>\n",
              "    <tr>\n",
              "      <th>0</th>\n",
              "      <td>0</td>\n",
              "      <td>104</td>\n",
              "      <td>8</td>\n",
              "      <td>66.0</td>\n",
              "      <td>0</td>\n",
              "      <td>14</td>\n",
              "      <td>31</td>\n",
              "      <td>8</td>\n",
              "      <td>1</td>\n",
              "    </tr>\n",
              "    <tr>\n",
              "      <th>1</th>\n",
              "      <td>1</td>\n",
              "      <td>101</td>\n",
              "      <td>8</td>\n",
              "      <td>56.0</td>\n",
              "      <td>1</td>\n",
              "      <td>14</td>\n",
              "      <td>31</td>\n",
              "      <td>0</td>\n",
              "      <td>0</td>\n",
              "    </tr>\n",
              "    <tr>\n",
              "      <th>2</th>\n",
              "      <td>2</td>\n",
              "      <td>137</td>\n",
              "      <td>8</td>\n",
              "      <td>46.0</td>\n",
              "      <td>1</td>\n",
              "      <td>14</td>\n",
              "      <td>31</td>\n",
              "      <td>13</td>\n",
              "      <td>0</td>\n",
              "    </tr>\n",
              "    <tr>\n",
              "      <th>3</th>\n",
              "      <td>3</td>\n",
              "      <td>116</td>\n",
              "      <td>8</td>\n",
              "      <td>60.0</td>\n",
              "      <td>0</td>\n",
              "      <td>14</td>\n",
              "      <td>31</td>\n",
              "      <td>0</td>\n",
              "      <td>0</td>\n",
              "    </tr>\n",
              "    <tr>\n",
              "      <th>4</th>\n",
              "      <td>4</td>\n",
              "      <td>116</td>\n",
              "      <td>8</td>\n",
              "      <td>58.0</td>\n",
              "      <td>0</td>\n",
              "      <td>14</td>\n",
              "      <td>31</td>\n",
              "      <td>0</td>\n",
              "      <td>0</td>\n",
              "    </tr>\n",
              "    <tr>\n",
              "      <th>...</th>\n",
              "      <td>...</td>\n",
              "      <td>...</td>\n",
              "      <td>...</td>\n",
              "      <td>...</td>\n",
              "      <td>...</td>\n",
              "      <td>...</td>\n",
              "      <td>...</td>\n",
              "      <td>...</td>\n",
              "      <td>...</td>\n",
              "    </tr>\n",
              "    <tr>\n",
              "      <th>855</th>\n",
              "      <td>855</td>\n",
              "      <td>10</td>\n",
              "      <td>4</td>\n",
              "      <td>49.4</td>\n",
              "      <td>0</td>\n",
              "      <td>14</td>\n",
              "      <td>31</td>\n",
              "      <td>0</td>\n",
              "      <td>0</td>\n",
              "    </tr>\n",
              "    <tr>\n",
              "      <th>856</th>\n",
              "      <td>856</td>\n",
              "      <td>10</td>\n",
              "      <td>4</td>\n",
              "      <td>49.4</td>\n",
              "      <td>0</td>\n",
              "      <td>14</td>\n",
              "      <td>31</td>\n",
              "      <td>0</td>\n",
              "      <td>0</td>\n",
              "    </tr>\n",
              "    <tr>\n",
              "      <th>860</th>\n",
              "      <td>860</td>\n",
              "      <td>3</td>\n",
              "      <td>1</td>\n",
              "      <td>49.4</td>\n",
              "      <td>0</td>\n",
              "      <td>14</td>\n",
              "      <td>31</td>\n",
              "      <td>0</td>\n",
              "      <td>0</td>\n",
              "    </tr>\n",
              "    <tr>\n",
              "      <th>861</th>\n",
              "      <td>861</td>\n",
              "      <td>24</td>\n",
              "      <td>9</td>\n",
              "      <td>49.4</td>\n",
              "      <td>0</td>\n",
              "      <td>14</td>\n",
              "      <td>31</td>\n",
              "      <td>0</td>\n",
              "      <td>0</td>\n",
              "    </tr>\n",
              "    <tr>\n",
              "      <th>862</th>\n",
              "      <td>862</td>\n",
              "      <td>15</td>\n",
              "      <td>27</td>\n",
              "      <td>70.0</td>\n",
              "      <td>0</td>\n",
              "      <td>14</td>\n",
              "      <td>31</td>\n",
              "      <td>0</td>\n",
              "      <td>0</td>\n",
              "    </tr>\n",
              "  </tbody>\n",
              "</table>\n",
              "<p>691 rows × 9 columns</p>\n",
              "</div>\n",
              "      <button class=\"colab-df-convert\" onclick=\"convertToInteractive('df-74462cd1-542c-48b4-95cd-eed23cf261e9')\"\n",
              "              title=\"Convert this dataframe to an interactive table.\"\n",
              "              style=\"display:none;\">\n",
              "        \n",
              "  <svg xmlns=\"http://www.w3.org/2000/svg\" height=\"24px\"viewBox=\"0 0 24 24\"\n",
              "       width=\"24px\">\n",
              "    <path d=\"M0 0h24v24H0V0z\" fill=\"none\"/>\n",
              "    <path d=\"M18.56 5.44l.94 2.06.94-2.06 2.06-.94-2.06-.94-.94-2.06-.94 2.06-2.06.94zm-11 1L8.5 8.5l.94-2.06 2.06-.94-2.06-.94L8.5 2.5l-.94 2.06-2.06.94zm10 10l.94 2.06.94-2.06 2.06-.94-2.06-.94-.94-2.06-.94 2.06-2.06.94z\"/><path d=\"M17.41 7.96l-1.37-1.37c-.4-.4-.92-.59-1.43-.59-.52 0-1.04.2-1.43.59L10.3 9.45l-7.72 7.72c-.78.78-.78 2.05 0 2.83L4 21.41c.39.39.9.59 1.41.59.51 0 1.02-.2 1.41-.59l7.78-7.78 2.81-2.81c.8-.78.8-2.07 0-2.86zM5.41 20L4 18.59l7.72-7.72 1.47 1.35L5.41 20z\"/>\n",
              "  </svg>\n",
              "      </button>\n",
              "      \n",
              "  <style>\n",
              "    .colab-df-container {\n",
              "      display:flex;\n",
              "      flex-wrap:wrap;\n",
              "      gap: 12px;\n",
              "    }\n",
              "\n",
              "    .colab-df-convert {\n",
              "      background-color: #E8F0FE;\n",
              "      border: none;\n",
              "      border-radius: 50%;\n",
              "      cursor: pointer;\n",
              "      display: none;\n",
              "      fill: #1967D2;\n",
              "      height: 32px;\n",
              "      padding: 0 0 0 0;\n",
              "      width: 32px;\n",
              "    }\n",
              "\n",
              "    .colab-df-convert:hover {\n",
              "      background-color: #E2EBFA;\n",
              "      box-shadow: 0px 1px 2px rgba(60, 64, 67, 0.3), 0px 1px 3px 1px rgba(60, 64, 67, 0.15);\n",
              "      fill: #174EA6;\n",
              "    }\n",
              "\n",
              "    [theme=dark] .colab-df-convert {\n",
              "      background-color: #3B4455;\n",
              "      fill: #D2E3FC;\n",
              "    }\n",
              "\n",
              "    [theme=dark] .colab-df-convert:hover {\n",
              "      background-color: #434B5C;\n",
              "      box-shadow: 0px 1px 3px 1px rgba(0, 0, 0, 0.15);\n",
              "      filter: drop-shadow(0px 1px 2px rgba(0, 0, 0, 0.3));\n",
              "      fill: #FFFFFF;\n",
              "    }\n",
              "  </style>\n",
              "\n",
              "      <script>\n",
              "        const buttonEl =\n",
              "          document.querySelector('#df-74462cd1-542c-48b4-95cd-eed23cf261e9 button.colab-df-convert');\n",
              "        buttonEl.style.display =\n",
              "          google.colab.kernel.accessAllowed ? 'block' : 'none';\n",
              "\n",
              "        async function convertToInteractive(key) {\n",
              "          const element = document.querySelector('#df-74462cd1-542c-48b4-95cd-eed23cf261e9');\n",
              "          const dataTable =\n",
              "            await google.colab.kernel.invokeFunction('convertToInteractive',\n",
              "                                                     [key], {});\n",
              "          if (!dataTable) return;\n",
              "\n",
              "          const docLinkHtml = 'Like what you see? Visit the ' +\n",
              "            '<a target=\"_blank\" href=https://colab.research.google.com/notebooks/data_table.ipynb>data table notebook</a>'\n",
              "            + ' to learn more about interactive tables.';\n",
              "          element.innerHTML = '';\n",
              "          dataTable['output_type'] = 'display_data';\n",
              "          await google.colab.output.renderOutput(dataTable, element);\n",
              "          const docLink = document.createElement('div');\n",
              "          docLink.innerHTML = docLinkHtml;\n",
              "          element.appendChild(docLink);\n",
              "        }\n",
              "      </script>\n",
              "    </div>\n",
              "  </div>\n",
              "  "
            ]
          },
          "metadata": {},
          "execution_count": 24
        }
      ]
    },
    {
      "cell_type": "code",
      "source": [
        "X_knn = c_dataset.iloc[:, 1:7].values\n",
        "y_knn = c_dataset.iloc[:, -1].values"
      ],
      "metadata": {
        "id": "WLUnyvAPVuBd"
      },
      "execution_count": null,
      "outputs": []
    },
    {
      "cell_type": "code",
      "source": [
        "X_train_k, X_test_k, y_train_k, y_test_k = train_test_split(X_knn,y_knn, test_size=0.1,random_state = 42 ,shuffle = True)\n"
      ],
      "metadata": {
        "id": "WB1ZBK96VuC8"
      },
      "execution_count": null,
      "outputs": []
    },
    {
      "cell_type": "code",
      "source": [
        "cv_scores = []\n",
        "i_range = list(range (2,11))\n",
        "\n",
        "for i in i_range:\n",
        "    scores = cross_val_score(DecisionTreeClassifier() , X_train_k, y_train_k, cv = i,scoring='recall')\n",
        "    cv_scores.append(scores.mean())\n",
        "\n",
        "plt.plot(i_range, cv_scores)"
      ],
      "metadata": {
        "colab": {
          "base_uri": "https://localhost:8080/",
          "height": 282
        },
        "id": "Pt2q8fj1Yxyz",
        "outputId": "ef4c4631-3379-44f9-efde-0a564c57ed15"
      },
      "execution_count": null,
      "outputs": [
        {
          "output_type": "execute_result",
          "data": {
            "text/plain": [
              "[<matplotlib.lines.Line2D at 0x7f60499838b0>]"
            ]
          },
          "metadata": {},
          "execution_count": 27
        },
        {
          "output_type": "display_data",
          "data": {
            "text/plain": [
              "<Figure size 432x288 with 1 Axes>"
            ],
            "image/png": "[encoded data removed]"
          },
          "metadata": {
            "needs_background": "light"
          }
        }
      ]
    },
    {
      "cell_type": "code",
      "source": [
        "#tune K in Knn clf with range 1->30\n",
        "k_range = list(range(1, 31))\n",
        "param_grid = dict(n_neighbors=k_range)\n",
        "\n",
        "param_grid = dict(\n",
        "    {\n",
        "     'n_neighbors' : list(range(1, 31)),\n",
        "     'weights' : ['uniform','distance'],\n",
        "     'metric' : ['minkowski','euclidean','manhattan']\n",
        "    }\n",
        ")\n",
        "\n",
        "# reconstruct the model using the tunning parameter\n",
        "grid_KNN = GridSearchCV(KNeighborsClassifier(), param_grid, cv=6, return_train_score=False,verbose=1)\n",
        "\n",
        "# fitting the model for grid search\n",
        "grid_KNN.fit(X_train_k, y_train_k)\n",
        "y_pred_k = grid_KNN.predict(X_test_k)\n",
        "print(grid_KNN.best_params_)"
      ],
      "metadata": {
        "colab": {
          "base_uri": "https://localhost:8080/"
        },
        "id": "QkhwneQTzkh-",
        "outputId": "4a6e2181-67aa-4ec1-ddff-48f73194b95e"
      },
      "execution_count": null,
      "outputs": [
        {
          "output_type": "stream",
          "name": "stdout",
          "text": [
            "Fitting 6 folds for each of 180 candidates, totalling 1080 fits\n",
            "{'metric': 'minkowski', 'n_neighbors': 5, 'weights': 'uniform'}\n"
          ]
        }
      ]
    },
    {
      "cell_type": "code",
      "source": [
        "#compute confusion\n",
        "con_matrix = confusion_matrix(y_test_k , y_pred_k)\n",
        "print(con_matrix)"
      ],
      "metadata": {
        "colab": {
          "base_uri": "https://localhost:8080/"
        },
        "id": "i7zskonw1KRS",
        "outputId": "ea8e1ada-9a98-4888-ca4d-df983b822abc"
      },
      "execution_count": null,
      "outputs": [
        {
          "output_type": "stream",
          "name": "stdout",
          "text": [
            "[[61  2]\n",
            " [ 0  7]]\n"
          ]
        }
      ]
    },
    {
      "cell_type": "code",
      "source": [
        "#plot the confusion matrix\n",
        "import numpy as np\n",
        "from sklearn.metrics import ConfusionMatrixDisplay\n",
        "\n",
        "def custom_confusion_matrix(y_true, y_pred_k, display_labels=None):\n",
        "    \"\"\"\n",
        "    A function to plot a custom confusion matrix with\n",
        "    positive class as the first row and the first column.\n",
        "    \"\"\"\n",
        "    # Create a flipped matrix\n",
        "    cm = np.flip(confusion_matrix(y_true, y_pred_k))\n",
        "    # Create the plot\n",
        "    fig, ax = plt.subplots(figsize=(8, 5))\n",
        "    cmp = ConfusionMatrixDisplay(cm, display_labels=display_labels)\n",
        "    cmp.plot(ax=ax)\n",
        "\n",
        "custom_confusion_matrix(\n",
        "  y_test_k, y_pred_k,\n",
        "  display_labels=['Recovered','Dead']\n",
        ")"
      ],
      "metadata": {
        "colab": {
          "base_uri": "https://localhost:8080/",
          "height": 334
        },
        "id": "37bAN4br0mO2",
        "outputId": "ea5b0eff-07cd-4659-a0e5-32d43c0d0544"
      },
      "execution_count": null,
      "outputs": [
        {
          "output_type": "display_data",
          "data": {
            "text/plain": [
              "<Figure size 576x360 with 2 Axes>"
            ],
            "image/png": "[encoded data removed]"
          },
          "metadata": {
            "needs_background": "light"
          }
        }
      ]
    },
    {
      "cell_type": "code",
      "source": [
        "#using different metrics such as the precision, recall, F1-score, and ROC/AUC curves for knn\n",
        "print(\"precision_score : \",precision_score(y_test_k , y_pred_k))\n",
        "print(\"recall_score : \" ,recall_score(y_test_k , y_pred_k))\n",
        "print(\"roc_auc_score : \",roc_auc_score(y_test_k , y_pred_k))\n",
        "print(\"f1_score : \",f1_score(y_test_k , y_pred_k))\n",
        "print(\"accuracy_score : \",accuracy_score(y_test_k,y_pred_k))\n",
        "\n",
        "KNN_score = [\"KNN\",accuracy_score(y_test,y_pred_k),precision_score(y_test_k , y_pred_k),recall_score(y_test_k , y_pred_k),\\\n",
        "            f1_score(y_test_k , y_pred_k),f1_score(y_test_k , y_pred_k)]"
      ],
      "metadata": {
        "colab": {
          "base_uri": "https://localhost:8080/"
        },
        "id": "9QeZNWmE0mTF",
        "outputId": "f0aa5247-edaf-4161-fd6e-c3642b0a4567"
      },
      "execution_count": null,
      "outputs": [
        {
          "output_type": "stream",
          "name": "stdout",
          "text": [
            "precision_score :  0.7777777777777778\n",
            "recall_score :  1.0\n",
            "roc_auc_score :  0.9841269841269842\n",
            "f1_score :  0.8750000000000001\n",
            "accuracy_score :  0.9714285714285714\n"
          ]
        }
      ]
    },
    {
      "cell_type": "code",
      "source": [
        "# plot  ROC/AUC curves for knn\n",
        "x_test_pred_prob = grid_KNN.predict_proba(X_test_k)[:,1]\n",
        "\n",
        "fpr, tpr, thresh = roc_curve(y_test_k, x_test_pred_prob)\n",
        "plt.subplots(1, figsize=(10,10))\n",
        "plt.title('ROC curve')\n",
        "plt.plot(fpr, tpr)\n",
        "plt.plot([0, 1], ls=\"--\")\n",
        "plt.plot([0, 0], [1, 0] , c=\".7\"), plt.plot([1, 1] , c=\".7\")\n",
        "plt.ylabel('True Positive Rate')\n",
        "plt.xlabel('False Positive Rate')\n",
        "plt.show()"
      ],
      "metadata": {
        "colab": {
          "base_uri": "https://localhost:8080/",
          "height": 621
        },
        "id": "uS9LPjqb0mez",
        "outputId": "a6024b9d-01ca-4962-8f86-8dddab88441d"
      },
      "execution_count": null,
      "outputs": [
        {
          "output_type": "display_data",
          "data": {
            "text/plain": [
              "<Figure size 720x720 with 1 Axes>"
            ],
            "image/png": "[encoded data removed]"
          },
          "metadata": {
            "needs_background": "light"
          }
        }
      ]
    },
    {
      "cell_type": "code",
      "source": [
        "#classification report for knn\n",
        "labels = ['Recovered','Dead']\n",
        "clf_report = classification_report(y_test_k,\n",
        "                                       y_pred_k,\n",
        "                                       target_names=labels,\n",
        "                                       output_dict=True)\n",
        "sns.heatmap(pd.DataFrame(clf_report).iloc[:-1, :].T, annot=True)"
      ],
      "metadata": {
        "colab": {
          "base_uri": "https://localhost:8080/",
          "height": 286
        },
        "id": "9pyuIxj1_ytz",
        "outputId": "eb7cab56-96a5-49c7-efbd-c23023e3376e"
      },
      "execution_count": null,
      "outputs": [
        {
          "output_type": "execute_result",
          "data": {
            "text/plain": [
              "<AxesSubplot:>"
            ]
          },
          "metadata": {},
          "execution_count": 33
        },
        {
          "output_type": "display_data",
          "data": {
            "text/plain": [
              "<Figure size 432x288 with 2 Axes>"
            ],
            "image/png": "[encoded data removed]"
          },
          "metadata": {
            "needs_background": "light"
          }
        }
      ]
    },
    {
      "cell_type": "markdown",
      "source": [
        "\n",
        ". Naïve Bayes\n",
        "\n",
        "\n",
        "training the NB model using grid search and validate against training and testing using cross validation\n",
        "\n",
        "show each feature importance drop non important features\n",
        "\n",
        "using different metrics such as the precision, recall, F1-score, and ROC/AUC curves.\n"
      ],
      "metadata": {
        "id": "ufeT2eYM3FN3"
      }
    },
    {
      "cell_type": "code",
      "source": [
        "cv_scores = []\n",
        "i_range = list(range (2,11))\n",
        "\n",
        "for i in i_range:\n",
        "    scores = cross_val_score(GaussianNB() , X_train, y_train, cv = i,scoring='recall')\n",
        "    cv_scores.append(scores.mean())\n",
        "\n",
        "plt.plot(i_range, cv_scores)"
      ],
      "metadata": {
        "colab": {
          "base_uri": "https://localhost:8080/",
          "height": 282
        },
        "id": "7UlTLmT2ht5W",
        "outputId": "7025b94e-b895-44d2-80e5-0abf7a30253c"
      },
      "execution_count": null,
      "outputs": [
        {
          "output_type": "execute_result",
          "data": {
            "text/plain": [
              "[<matplotlib.lines.Line2D at 0x7f6048673070>]"
            ]
          },
          "metadata": {},
          "execution_count": 118
        },
        {
          "output_type": "display_data",
          "data": {
            "text/plain": [
              "<Figure size 432x288 with 1 Axes>"
            ],
            "image/png": "[encoded data removed]"
          },
          "metadata": {
            "needs_background": "light"
          }
        }
      ]
    },
    {
      "cell_type": "code",
      "source": [
        "from sklearn.inspection import permutation_importance\n",
        "from sklearn.naive_bayes import GaussianNB\n",
        "from sklearn.model_selection import train_test_split\n",
        "\n",
        "gaussian_nb = GaussianNB()\n",
        "gaussian_nb.fit(X_train, y_train)\n",
        "\n",
        "imps = permutation_importance(gaussian_nb, X_test, y_test)\n",
        "print(imps.importances_mean)"
      ],
      "metadata": {
        "colab": {
          "base_uri": "https://localhost:8080/"
        },
        "id": "V7jfYs-PchPu",
        "outputId": "220e948f-adaf-47f1-ee4d-9065b73b5d8b"
      },
      "execution_count": null,
      "outputs": [
        {
          "output_type": "stream",
          "name": "stdout",
          "text": [
            "[-0.01428571  0.01714286  0.         -0.01428571  0.01428571  0.00285714\n",
            "  0.01428571  0.01142857  0.00285714  0.          0.          0.\n",
            "  0.00571429]\n"
          ]
        }
      ]
    },
    {
      "cell_type": "code",
      "source": [
        "features = [\"location\" ,\"country\",\"gender\",\"age\",\"vis_wuhan\",\"from_wuhan\",\"symptom1\",\"symptom2\",\"symptom3\",\"symptom4\",\\\n",
        "                \"symptom5\",\"symptom6\",\"diff_sym_hos\"]"
      ],
      "metadata": {
        "id": "PIKZ-NMwi8Br"
      },
      "execution_count": null,
      "outputs": []
    },
    {
      "cell_type": "code",
      "source": [
        "#drop non important features\n",
        "c_dataset= c_dataset.drop(\"gender\", axis='columns')\n",
        "c_dataset= c_dataset.drop(\"symptom3\", axis='columns')\n",
        "c_dataset= c_dataset.drop(\"vis_wuhan\", axis='columns')\n",
        "c_dataset= c_dataset.drop(\"symptom4\", axis='columns')\n",
        "c_dataset= c_dataset.drop(\"symptom5\", axis='columns')\n",
        "c_dataset= c_dataset.drop(\"symptom6\", axis='columns')\n",
        "# i don't drop any features for NB it doesn't work well with feature dropping\n"
      ],
      "metadata": {
        "id": "lrH4Ax3OjGNS"
      },
      "execution_count": null,
      "outputs": []
    },
    {
      "cell_type": "code",
      "source": [
        "c_dataset"
      ],
      "metadata": {
        "colab": {
          "base_uri": "https://localhost:8080/",
          "height": 423
        },
        "id": "MOq11OITkb2c",
        "outputId": "0d3ba29c-401c-4f4c-fb79-445a19cb8f06"
      },
      "execution_count": null,
      "outputs": [
        {
          "output_type": "execute_result",
          "data": {
            "text/plain": [
              "     Unnamed: 0  location  country   age  from_wuhan  symptom1  symptom2  \\\n",
              "0             0       104        8  66.0           0        14        31   \n",
              "1             1       101        8  56.0           1        14        31   \n",
              "2             2       137        8  46.0           1        14        31   \n",
              "3             3       116        8  60.0           0        14        31   \n",
              "4             4       116        8  58.0           0        14        31   \n",
              "..          ...       ...      ...   ...         ...       ...       ...   \n",
              "855         855        10        4  49.4           0        14        31   \n",
              "856         856        10        4  49.4           0        14        31   \n",
              "860         860         3        1  49.4           0        14        31   \n",
              "861         861        24        9  49.4           0        14        31   \n",
              "862         862        15       27  70.0           0        14        31   \n",
              "\n",
              "     diff_sym_hos  result  \n",
              "0               8       1  \n",
              "1               0       0  \n",
              "2              13       0  \n",
              "3               0       0  \n",
              "4               0       0  \n",
              "..            ...     ...  \n",
              "855             0       0  \n",
              "856             0       0  \n",
              "860             0       0  \n",
              "861             0       0  \n",
              "862             0       0  \n",
              "\n",
              "[691 rows x 9 columns]"
            ],
            "text/html": [
              "\n",
              "  <div id=\"df-6725d2f4-c8a9-4215-afbb-d6ca500fa31e\">\n",
              "    <div class=\"colab-df-container\">\n",
              "      <div>\n",
              "<style scoped>\n",
              "    .dataframe tbody tr th:only-of-type {\n",
              "        vertical-align: middle;\n",
              "    }\n",
              "\n",
              "    .dataframe tbody tr th {\n",
              "        vertical-align: top;\n",
              "    }\n",
              "\n",
              "    .dataframe thead th {\n",
              "        text-align: right;\n",
              "    }\n",
              "</style>\n",
              "<table border=\"1\" class=\"dataframe\">\n",
              "  <thead>\n",
              "    <tr style=\"text-align: right;\">\n",
              "      <th></th>\n",
              "      <th>Unnamed: 0</th>\n",
              "      <th>location</th>\n",
              "      <th>country</th>\n",
              "      <th>age</th>\n",
              "      <th>from_wuhan</th>\n",
              "      <th>symptom1</th>\n",
              "      <th>symptom2</th>\n",
              "      <th>diff_sym_hos</th>\n",
              "      <th>result</th>\n",
              "    </tr>\n",
              "  </thead>\n",
              "  <tbody>\n",
              "    <tr>\n",
              "      <th>0</th>\n",
              "      <td>0</td>\n",
              "      <td>104</td>\n",
              "      <td>8</td>\n",
              "      <td>66.0</td>\n",
              "      <td>0</td>\n",
              "      <td>14</td>\n",
              "      <td>31</td>\n",
              "      <td>8</td>\n",
              "      <td>1</td>\n",
              "    </tr>\n",
              "    <tr>\n",
              "      <th>1</th>\n",
              "      <td>1</td>\n",
              "      <td>101</td>\n",
              "      <td>8</td>\n",
              "      <td>56.0</td>\n",
              "      <td>1</td>\n",
              "      <td>14</td>\n",
              "      <td>31</td>\n",
              "      <td>0</td>\n",
              "      <td>0</td>\n",
              "    </tr>\n",
              "    <tr>\n",
              "      <th>2</th>\n",
              "      <td>2</td>\n",
              "      <td>137</td>\n",
              "      <td>8</td>\n",
              "      <td>46.0</td>\n",
              "      <td>1</td>\n",
              "      <td>14</td>\n",
              "      <td>31</td>\n",
              "      <td>13</td>\n",
              "      <td>0</td>\n",
              "    </tr>\n",
              "    <tr>\n",
              "      <th>3</th>\n",
              "      <td>3</td>\n",
              "      <td>116</td>\n",
              "      <td>8</td>\n",
              "      <td>60.0</td>\n",
              "      <td>0</td>\n",
              "      <td>14</td>\n",
              "      <td>31</td>\n",
              "      <td>0</td>\n",
              "      <td>0</td>\n",
              "    </tr>\n",
              "    <tr>\n",
              "      <th>4</th>\n",
              "      <td>4</td>\n",
              "      <td>116</td>\n",
              "      <td>8</td>\n",
              "      <td>58.0</td>\n",
              "      <td>0</td>\n",
              "      <td>14</td>\n",
              "      <td>31</td>\n",
              "      <td>0</td>\n",
              "      <td>0</td>\n",
              "    </tr>\n",
              "    <tr>\n",
              "      <th>...</th>\n",
              "      <td>...</td>\n",
              "      <td>...</td>\n",
              "      <td>...</td>\n",
              "      <td>...</td>\n",
              "      <td>...</td>\n",
              "      <td>...</td>\n",
              "      <td>...</td>\n",
              "      <td>...</td>\n",
              "      <td>...</td>\n",
              "    </tr>\n",
              "    <tr>\n",
              "      <th>855</th>\n",
              "      <td>855</td>\n",
              "      <td>10</td>\n",
              "      <td>4</td>\n",
              "      <td>49.4</td>\n",
              "      <td>0</td>\n",
              "      <td>14</td>\n",
              "      <td>31</td>\n",
              "      <td>0</td>\n",
              "      <td>0</td>\n",
              "    </tr>\n",
              "    <tr>\n",
              "      <th>856</th>\n",
              "      <td>856</td>\n",
              "      <td>10</td>\n",
              "      <td>4</td>\n",
              "      <td>49.4</td>\n",
              "      <td>0</td>\n",
              "      <td>14</td>\n",
              "      <td>31</td>\n",
              "      <td>0</td>\n",
              "      <td>0</td>\n",
              "    </tr>\n",
              "    <tr>\n",
              "      <th>860</th>\n",
              "      <td>860</td>\n",
              "      <td>3</td>\n",
              "      <td>1</td>\n",
              "      <td>49.4</td>\n",
              "      <td>0</td>\n",
              "      <td>14</td>\n",
              "      <td>31</td>\n",
              "      <td>0</td>\n",
              "      <td>0</td>\n",
              "    </tr>\n",
              "    <tr>\n",
              "      <th>861</th>\n",
              "      <td>861</td>\n",
              "      <td>24</td>\n",
              "      <td>9</td>\n",
              "      <td>49.4</td>\n",
              "      <td>0</td>\n",
              "      <td>14</td>\n",
              "      <td>31</td>\n",
              "      <td>0</td>\n",
              "      <td>0</td>\n",
              "    </tr>\n",
              "    <tr>\n",
              "      <th>862</th>\n",
              "      <td>862</td>\n",
              "      <td>15</td>\n",
              "      <td>27</td>\n",
              "      <td>70.0</td>\n",
              "      <td>0</td>\n",
              "      <td>14</td>\n",
              "      <td>31</td>\n",
              "      <td>0</td>\n",
              "      <td>0</td>\n",
              "    </tr>\n",
              "  </tbody>\n",
              "</table>\n",
              "<p>691 rows × 9 columns</p>\n",
              "</div>\n",
              "      <button class=\"colab-df-convert\" onclick=\"convertToInteractive('df-6725d2f4-c8a9-4215-afbb-d6ca500fa31e')\"\n",
              "              title=\"Convert this dataframe to an interactive table.\"\n",
              "              style=\"display:none;\">\n",
              "        \n",
              "  <svg xmlns=\"http://www.w3.org/2000/svg\" height=\"24px\"viewBox=\"0 0 24 24\"\n",
              "       width=\"24px\">\n",
              "    <path d=\"M0 0h24v24H0V0z\" fill=\"none\"/>\n",
              "    <path d=\"M18.56 5.44l.94 2.06.94-2.06 2.06-.94-2.06-.94-.94-2.06-.94 2.06-2.06.94zm-11 1L8.5 8.5l.94-2.06 2.06-.94-2.06-.94L8.5 2.5l-.94 2.06-2.06.94zm10 10l.94 2.06.94-2.06 2.06-.94-2.06-.94-.94-2.06-.94 2.06-2.06.94z\"/><path d=\"M17.41 7.96l-1.37-1.37c-.4-.4-.92-.59-1.43-.59-.52 0-1.04.2-1.43.59L10.3 9.45l-7.72 7.72c-.78.78-.78 2.05 0 2.83L4 21.41c.39.39.9.59 1.41.59.51 0 1.02-.2 1.41-.59l7.78-7.78 2.81-2.81c.8-.78.8-2.07 0-2.86zM5.41 20L4 18.59l7.72-7.72 1.47 1.35L5.41 20z\"/>\n",
              "  </svg>\n",
              "      </button>\n",
              "      \n",
              "  <style>\n",
              "    .colab-df-container {\n",
              "      display:flex;\n",
              "      flex-wrap:wrap;\n",
              "      gap: 12px;\n",
              "    }\n",
              "\n",
              "    .colab-df-convert {\n",
              "      background-color: #E8F0FE;\n",
              "      border: none;\n",
              "      border-radius: 50%;\n",
              "      cursor: pointer;\n",
              "      display: none;\n",
              "      fill: #1967D2;\n",
              "      height: 32px;\n",
              "      padding: 0 0 0 0;\n",
              "      width: 32px;\n",
              "    }\n",
              "\n",
              "    .colab-df-convert:hover {\n",
              "      background-color: #E2EBFA;\n",
              "      box-shadow: 0px 1px 2px rgba(60, 64, 67, 0.3), 0px 1px 3px 1px rgba(60, 64, 67, 0.15);\n",
              "      fill: #174EA6;\n",
              "    }\n",
              "\n",
              "    [theme=dark] .colab-df-convert {\n",
              "      background-color: #3B4455;\n",
              "      fill: #D2E3FC;\n",
              "    }\n",
              "\n",
              "    [theme=dark] .colab-df-convert:hover {\n",
              "      background-color: #434B5C;\n",
              "      box-shadow: 0px 1px 3px 1px rgba(0, 0, 0, 0.15);\n",
              "      filter: drop-shadow(0px 1px 2px rgba(0, 0, 0, 0.3));\n",
              "      fill: #FFFFFF;\n",
              "    }\n",
              "  </style>\n",
              "\n",
              "      <script>\n",
              "        const buttonEl =\n",
              "          document.querySelector('#df-6725d2f4-c8a9-4215-afbb-d6ca500fa31e button.colab-df-convert');\n",
              "        buttonEl.style.display =\n",
              "          google.colab.kernel.accessAllowed ? 'block' : 'none';\n",
              "\n",
              "        async function convertToInteractive(key) {\n",
              "          const element = document.querySelector('#df-6725d2f4-c8a9-4215-afbb-d6ca500fa31e');\n",
              "          const dataTable =\n",
              "            await google.colab.kernel.invokeFunction('convertToInteractive',\n",
              "                                                     [key], {});\n",
              "          if (!dataTable) return;\n",
              "\n",
              "          const docLinkHtml = 'Like what you see? Visit the ' +\n",
              "            '<a target=\"_blank\" href=https://colab.research.google.com/notebooks/data_table.ipynb>data table notebook</a>'\n",
              "            + ' to learn more about interactive tables.';\n",
              "          element.innerHTML = '';\n",
              "          dataTable['output_type'] = 'display_data';\n",
              "          await google.colab.output.renderOutput(dataTable, element);\n",
              "          const docLink = document.createElement('div');\n",
              "          docLink.innerHTML = docLinkHtml;\n",
              "          element.appendChild(docLink);\n",
              "        }\n",
              "      </script>\n",
              "    </div>\n",
              "  </div>\n",
              "  "
            ]
          },
          "metadata": {},
          "execution_count": 122
        }
      ]
    },
    {
      "cell_type": "markdown",
      "source": [],
      "metadata": {
        "id": "teTS0EufKXxc"
      }
    },
    {
      "cell_type": "code",
      "source": [
        "X_NB = c_dataset.iloc[:, 1:7].values\n",
        "y_NB = c_dataset.iloc[:, -1].values"
      ],
      "metadata": {
        "id": "ZFfy43ZCKZTx"
      },
      "execution_count": null,
      "outputs": []
    },
    {
      "cell_type": "code",
      "source": [
        "X_train_NB, X_test_NB, y_train_NB, y_test_NB = train_test_split(X_NB, y_NB, test_size=0.1,random_state = 42 ,shuffle = True)\n"
      ],
      "metadata": {
        "id": "vCz5JEALLBgl"
      },
      "execution_count": null,
      "outputs": []
    },
    {
      "cell_type": "code",
      "source": [
        "param_grid = dict()\n",
        "\n",
        "# reconstruct the model using the tuning parameters\n",
        "grid_Nb = GridSearchCV(GaussianNB(), param_grid, cv=6,return_train_score=False,verbose=1)\n",
        "\n",
        "# fitting the model for grid search\n",
        "grid_Nb.fit(X_train_NB, y_train_NB)\n",
        "y_pred_NB = grid_Nb.predict(X_test_NB)"
      ],
      "metadata": {
        "colab": {
          "base_uri": "https://localhost:8080/"
        },
        "id": "8qg2DVDiLBkt",
        "outputId": "e338c0bf-34dc-4fcd-ec1c-da0c865b2708"
      },
      "execution_count": null,
      "outputs": [
        {
          "output_type": "stream",
          "name": "stdout",
          "text": [
            "Fitting 6 folds for each of 1 candidates, totalling 6 fits\n"
          ]
        }
      ]
    },
    {
      "cell_type": "code",
      "source": [
        "#compute the confusion matrix\n",
        "con_matrix = confusion_matrix(y_test_NB, y_pred_NB)\n",
        "print(con_matrix)"
      ],
      "metadata": {
        "colab": {
          "base_uri": "https://localhost:8080/"
        },
        "id": "RVpoZ2UihuAb",
        "outputId": "c69d9721-5fe0-495e-e496-80875d622fca"
      },
      "execution_count": null,
      "outputs": [
        {
          "output_type": "stream",
          "name": "stdout",
          "text": [
            "[[60  3]\n",
            " [ 0  7]]\n"
          ]
        }
      ]
    },
    {
      "cell_type": "code",
      "source": [
        "#plot the confusion matrix\n",
        "import numpy as np\n",
        "from sklearn.metrics import ConfusionMatrixDisplay\n",
        "\n",
        "def custom_confusion_matrix(y_test_NB, y_pred_NB, display_labels=None):\n",
        "    \"\"\"\n",
        "    A function to plot a custom confusion matrix with\n",
        "    positive class as the first row and the first column.\n",
        "    \"\"\"\n",
        "    # Create a flipped matrix\n",
        "    cm = np.flip(confusion_matrix(y_test_NB, y_pred_NB))\n",
        "    # Create the plot\n",
        "    fig, ax = plt.subplots(figsize=(8, 5))\n",
        "    cmp = ConfusionMatrixDisplay(cm, display_labels=display_labels)\n",
        "    cmp.plot(ax=ax)\n",
        "\n",
        "custom_confusion_matrix(\n",
        "  y_test_NB, y_pred_NB,\n",
        "  display_labels=['Recovered','Dead']\n",
        ")"
      ],
      "metadata": {
        "colab": {
          "base_uri": "https://localhost:8080/",
          "height": 338
        },
        "id": "GxajbnBjMT-j",
        "outputId": "2bfe8f12-0c47-4aa7-dbef-f26038cc3273"
      },
      "execution_count": null,
      "outputs": [
        {
          "output_type": "display_data",
          "data": {
            "text/plain": [
              "<Figure size 576x360 with 2 Axes>"
            ],
            "image/png": "[encoded data removed]"
          },
          "metadata": {
            "needs_background": "light"
          }
        }
      ]
    },
    {
      "cell_type": "code",
      "source": [
        "#compute precision, recall, F1-score, and ROC/AUC curves\n",
        "print(\"precision_score : \",precision_score(y_test_NB , y_pred_NB))\n",
        "print(\"recall_score : \" ,recall_score(y_test_NB , y_pred_NB))\n",
        "print(\"roc_auc_score : \",roc_auc_score(y_test_NB , y_pred_NB))\n",
        "print(\"f1_score : \",f1_score(y_test_NB , y_pred_NB))\n",
        "print(\"accuracy_score : \",accuracy_score(y_test_NB,y_pred_NB))\n",
        "\n",
        "Naive_bayes_score = [\"Naive bayes\",accuracy_score(y_test_NB,y_pred_NB),precision_score(y_test_NB , y_pred_NB),\\\n",
        "                     recall_score(y_test_NB , y_pred_NB),f1_score(y_test , y_pred_NB),f1_score(y_test , y_pred_NB)]\n"
      ],
      "metadata": {
        "colab": {
          "base_uri": "https://localhost:8080/"
        },
        "id": "fcx13vZrhuFH",
        "outputId": "a7481c08-8eb0-466a-ab5e-653e5be74cab"
      },
      "execution_count": null,
      "outputs": [
        {
          "output_type": "stream",
          "name": "stdout",
          "text": [
            "precision_score :  0.7\n",
            "recall_score :  1.0\n",
            "roc_auc_score :  0.9761904761904762\n",
            "f1_score :  0.8235294117647058\n",
            "accuracy_score :  0.9571428571428572\n"
          ]
        }
      ]
    },
    {
      "cell_type": "code",
      "source": [
        "#plot the roc curve\n",
        "x_test_pred_prob = grid_Nb.predict_proba(X_test)[:,1]\n",
        "\n",
        "fpr, tpr, thresh = roc_curve(y_test, x_test_pred_prob)\n",
        "plt.subplots(1, figsize=(10,10))\n",
        "plt.title('ROC curve')\n",
        "plt.plot(fpr, tpr)\n",
        "plt.plot([0, 1], ls=\"--\")\n",
        "plt.plot([0, 0], [1, 0] , c=\".7\"), plt.plot([1, 1] , c=\".7\")\n",
        "plt.ylabel('True Positive Rate')\n",
        "plt.xlabel('False Positive Rate')\n",
        "plt.show()"
      ],
      "metadata": {
        "colab": {
          "base_uri": "https://localhost:8080/",
          "height": 621
        },
        "id": "6s4xDGmihuGn",
        "outputId": "ebfb3bcf-0ba6-4568-b492-8bc2d968ba0b"
      },
      "execution_count": null,
      "outputs": [
        {
          "output_type": "display_data",
          "data": {
            "text/plain": [
              "<Figure size 720x720 with 1 Axes>"
            ],
            "image/png": "[encoded data removed]"
          },
          "metadata": {
            "needs_background": "light"
          }
        }
      ]
    },
    {
      "cell_type": "code",
      "source": [
        "#classification report\n",
        "targets = ['Recovered','Dead']\n",
        "clf_report = classification_report(y_test_NB,\n",
        "                                       y_pred_NB,\n",
        "                                       target_names=targets,\n",
        "                                       output_dict=True)\n",
        "sns.heatmap(pd.DataFrame(clf_report).iloc[:-1, :].T, annot=True)\n"
      ],
      "metadata": {
        "colab": {
          "base_uri": "https://localhost:8080/",
          "height": 286
        },
        "id": "xjHLzCs3huKD",
        "outputId": "8bc9d1ae-fc91-4414-82c5-885401d96029"
      },
      "execution_count": null,
      "outputs": [
        {
          "output_type": "execute_result",
          "data": {
            "text/plain": [
              "<AxesSubplot:>"
            ]
          },
          "metadata": {},
          "execution_count": 135
        },
        {
          "output_type": "display_data",
          "data": {
            "text/plain": [
              "<Figure size 432x288 with 2 Axes>"
            ],
            "image/png": "[encoded data removed]"
          },
          "metadata": {
            "needs_background": "light"
          }
        }
      ]
    },
    {
      "cell_type": "markdown",
      "source": [
        "3. Decision Trees\n",
        "\n",
        "training the DT model using grid search and validate against training and testing using cross validation\n",
        "\n",
        "show each feature importance drop non important features\n",
        "\n",
        "using different metrics such as the precision, recall, F1-score, and ROC/AUC curves.\n"
      ],
      "metadata": {
        "id": "PA9AECuE3Znt"
      }
    },
    {
      "cell_type": "code",
      "source": [
        "\n",
        "\n",
        "#Decision Tree classifier\n",
        "\n",
        "\n"
      ],
      "metadata": {
        "id": "VAqMgrjohuLZ"
      },
      "execution_count": null,
      "outputs": []
    },
    {
      "cell_type": "code",
      "source": [
        "cv_scores = []\n",
        "i_range = list(range (2,11))\n",
        "\n",
        "for i in i_range:\n",
        "    scores = cross_val_score(DecisionTreeClassifier() , X_train, y_train, cv = i,scoring='recall')\n",
        "    cv_scores.append(scores.mean())\n",
        "\n",
        "plt.plot(i_range, cv_scores)"
      ],
      "metadata": {
        "colab": {
          "base_uri": "https://localhost:8080/",
          "height": 282
        },
        "id": "rSqiLty_huPC",
        "outputId": "48d16db6-1e15-4843-f784-2d7305d9dc64"
      },
      "execution_count": null,
      "outputs": [
        {
          "output_type": "execute_result",
          "data": {
            "text/plain": [
              "[<matplotlib.lines.Line2D at 0x7f60486416a0>]"
            ]
          },
          "metadata": {},
          "execution_count": 153
        },
        {
          "output_type": "display_data",
          "data": {
            "text/plain": [
              "<Figure size 432x288 with 1 Axes>"
            ],
            "image/png": "[encoded data removed]"
          },
          "metadata": {
            "needs_background": "light"
          }
        }
      ]
    },
    {
      "cell_type": "code",
      "source": [
        "# decision tree for feature importance on a classification problem\n",
        "from sklearn.datasets import make_regression\n",
        "from sklearn.tree import DecisionTreeClassifier\n",
        "from matplotlib import pyplot\n",
        "# define dataset\n",
        "X_train, y_train= make_classification(n_samples=775, n_features=13, n_informative=5, random_state=1)\n",
        "# define the model\n",
        "model = DecisionTreeClassifier()\n",
        "# fit the model\n",
        "model.fit(X_train, y_train)\n",
        "# get importance\n",
        "importance = model.feature_importances_\n",
        "# summarize feature importance\n",
        "for i,v in enumerate(importance):\n",
        " print('Feature: %0d, Score: %.5f' % (i,v))\n",
        "# plot feature importance\n",
        "pyplot.bar([x for x in range(len(importance))], importance)\n",
        "pyplot.show()"
      ],
      "metadata": {
        "colab": {
          "base_uri": "https://localhost:8080/",
          "height": 491
        },
        "id": "RoU8gjiChuR6",
        "outputId": "33686fe2-7f29-4172-a082-8eec851552f2"
      },
      "execution_count": null,
      "outputs": [
        {
          "output_type": "stream",
          "name": "stdout",
          "text": [
            "Feature: 0, Score: 0.08639\n",
            "Feature: 1, Score: 0.01318\n",
            "Feature: 2, Score: 0.10435\n",
            "Feature: 3, Score: 0.13795\n",
            "Feature: 4, Score: 0.01079\n",
            "Feature: 5, Score: 0.02852\n",
            "Feature: 6, Score: 0.10185\n",
            "Feature: 7, Score: 0.28429\n",
            "Feature: 8, Score: 0.01563\n",
            "Feature: 9, Score: 0.03737\n",
            "Feature: 10, Score: 0.08763\n",
            "Feature: 11, Score: 0.01695\n",
            "Feature: 12, Score: 0.07512\n"
          ]
        },
        {
          "output_type": "display_data",
          "data": {
            "text/plain": [
              "<Figure size 432x288 with 1 Axes>"
            ],
            "image/png": "[encoded data removed]"
          },
          "metadata": {
            "needs_background": "light"
          }
        }
      ]
    },
    {
      "cell_type": "code",
      "source": [
        "features = [\"location\" ,\"country\",\"gender\",\"age\",\"vis_wuhan\",\"from_wuhan\",\"symptom1\",\"symptom2\",\"symptom3\",\"symptom4\",\\\n",
        "                \"symptom5\",\"symptom6\",\"diff_sym_hos\"]"
      ],
      "metadata": {
        "id": "BLMWcu5n1U7k"
      },
      "execution_count": null,
      "outputs": []
    },
    {
      "cell_type": "code",
      "source": [
        "\n",
        "#drop non important features\n",
        "c_dataset = c_dataset.drop(\"country\", axis='columns')\n",
        "c_dataset = c_dataset.drop(\"vis_wuhan\", axis='columns')\n",
        "c_dataset = c_dataset.drop(\"symptom3\", axis='columns')\n",
        "c_dataset = c_dataset.drop(\"symptom6\", axis='columns')\n",
        "\n",
        "\n",
        "\n"
      ],
      "metadata": {
        "id": "cfg8cqHAvvZ6"
      },
      "execution_count": null,
      "outputs": []
    },
    {
      "cell_type": "code",
      "source": [
        "c_dataset"
      ],
      "metadata": {
        "colab": {
          "base_uri": "https://localhost:8080/",
          "height": 423
        },
        "id": "9yICTwy2vvqg",
        "outputId": "fee7cea4-cb58-4121-b399-54b8cb691715"
      },
      "execution_count": null,
      "outputs": [
        {
          "output_type": "execute_result",
          "data": {
            "text/plain": [
              "     Unnamed: 0  location  gender   age  from_wuhan  symptom1  symptom2  \\\n",
              "0             0       104       1  66.0           0        14        31   \n",
              "1             1       101       0  56.0           1        14        31   \n",
              "2             2       137       1  46.0           1        14        31   \n",
              "3             3       116       0  60.0           0        14        31   \n",
              "4             4       116       1  58.0           0        14        31   \n",
              "..          ...       ...     ...   ...         ...       ...       ...   \n",
              "855         855        10       0  49.4           0        14        31   \n",
              "856         856        10       0  49.4           0        14        31   \n",
              "860         860         3       1  49.4           0        14        31   \n",
              "861         861        24       1  49.4           0        14        31   \n",
              "862         862        15       1  70.0           0        14        31   \n",
              "\n",
              "     symptom4  symptom5  diff_sym_hos  result  \n",
              "0          12         3             8       1  \n",
              "1          12         3             0       0  \n",
              "2          12         3            13       0  \n",
              "3          12         3             0       0  \n",
              "4          12         3             0       0  \n",
              "..        ...       ...           ...     ...  \n",
              "855        12         3             0       0  \n",
              "856        12         3             0       0  \n",
              "860        12         3             0       0  \n",
              "861        12         3             0       0  \n",
              "862        12         3             0       0  \n",
              "\n",
              "[691 rows x 11 columns]"
            ],
            "text/html": [
              "\n",
              "  <div id=\"df-9db16412-5363-45c2-9ef2-e008f334d5e5\">\n",
              "    <div class=\"colab-df-container\">\n",
              "      <div>\n",
              "<style scoped>\n",
              "    .dataframe tbody tr th:only-of-type {\n",
              "        vertical-align: middle;\n",
              "    }\n",
              "\n",
              "    .dataframe tbody tr th {\n",
              "        vertical-align: top;\n",
              "    }\n",
              "\n",
              "    .dataframe thead th {\n",
              "        text-align: right;\n",
              "    }\n",
              "</style>\n",
              "<table border=\"1\" class=\"dataframe\">\n",
              "  <thead>\n",
              "    <tr style=\"text-align: right;\">\n",
              "      <th></th>\n",
              "      <th>Unnamed: 0</th>\n",
              "      <th>location</th>\n",
              "      <th>gender</th>\n",
              "      <th>age</th>\n",
              "      <th>from_wuhan</th>\n",
              "      <th>symptom1</th>\n",
              "      <th>symptom2</th>\n",
              "      <th>symptom4</th>\n",
              "      <th>symptom5</th>\n",
              "      <th>diff_sym_hos</th>\n",
              "      <th>result</th>\n",
              "    </tr>\n",
              "  </thead>\n",
              "  <tbody>\n",
              "    <tr>\n",
              "      <th>0</th>\n",
              "      <td>0</td>\n",
              "      <td>104</td>\n",
              "      <td>1</td>\n",
              "      <td>66.0</td>\n",
              "      <td>0</td>\n",
              "      <td>14</td>\n",
              "      <td>31</td>\n",
              "      <td>12</td>\n",
              "      <td>3</td>\n",
              "      <td>8</td>\n",
              "      <td>1</td>\n",
              "    </tr>\n",
              "    <tr>\n",
              "      <th>1</th>\n",
              "      <td>1</td>\n",
              "      <td>101</td>\n",
              "      <td>0</td>\n",
              "      <td>56.0</td>\n",
              "      <td>1</td>\n",
              "      <td>14</td>\n",
              "      <td>31</td>\n",
              "      <td>12</td>\n",
              "      <td>3</td>\n",
              "      <td>0</td>\n",
              "      <td>0</td>\n",
              "    </tr>\n",
              "    <tr>\n",
              "      <th>2</th>\n",
              "      <td>2</td>\n",
              "      <td>137</td>\n",
              "      <td>1</td>\n",
              "      <td>46.0</td>\n",
              "      <td>1</td>\n",
              "      <td>14</td>\n",
              "      <td>31</td>\n",
              "      <td>12</td>\n",
              "      <td>3</td>\n",
              "      <td>13</td>\n",
              "      <td>0</td>\n",
              "    </tr>\n",
              "    <tr>\n",
              "      <th>3</th>\n",
              "      <td>3</td>\n",
              "      <td>116</td>\n",
              "      <td>0</td>\n",
              "      <td>60.0</td>\n",
              "      <td>0</td>\n",
              "      <td>14</td>\n",
              "      <td>31</td>\n",
              "      <td>12</td>\n",
              "      <td>3</td>\n",
              "      <td>0</td>\n",
              "      <td>0</td>\n",
              "    </tr>\n",
              "    <tr>\n",
              "      <th>4</th>\n",
              "      <td>4</td>\n",
              "      <td>116</td>\n",
              "      <td>1</td>\n",
              "      <td>58.0</td>\n",
              "      <td>0</td>\n",
              "      <td>14</td>\n",
              "      <td>31</td>\n",
              "      <td>12</td>\n",
              "      <td>3</td>\n",
              "      <td>0</td>\n",
              "      <td>0</td>\n",
              "    </tr>\n",
              "    <tr>\n",
              "      <th>...</th>\n",
              "      <td>...</td>\n",
              "      <td>...</td>\n",
              "      <td>...</td>\n",
              "      <td>...</td>\n",
              "      <td>...</td>\n",
              "      <td>...</td>\n",
              "      <td>...</td>\n",
              "      <td>...</td>\n",
              "      <td>...</td>\n",
              "      <td>...</td>\n",
              "      <td>...</td>\n",
              "    </tr>\n",
              "    <tr>\n",
              "      <th>855</th>\n",
              "      <td>855</td>\n",
              "      <td>10</td>\n",
              "      <td>0</td>\n",
              "      <td>49.4</td>\n",
              "      <td>0</td>\n",
              "      <td>14</td>\n",
              "      <td>31</td>\n",
              "      <td>12</td>\n",
              "      <td>3</td>\n",
              "      <td>0</td>\n",
              "      <td>0</td>\n",
              "    </tr>\n",
              "    <tr>\n",
              "      <th>856</th>\n",
              "      <td>856</td>\n",
              "      <td>10</td>\n",
              "      <td>0</td>\n",
              "      <td>49.4</td>\n",
              "      <td>0</td>\n",
              "      <td>14</td>\n",
              "      <td>31</td>\n",
              "      <td>12</td>\n",
              "      <td>3</td>\n",
              "      <td>0</td>\n",
              "      <td>0</td>\n",
              "    </tr>\n",
              "    <tr>\n",
              "      <th>860</th>\n",
              "      <td>860</td>\n",
              "      <td>3</td>\n",
              "      <td>1</td>\n",
              "      <td>49.4</td>\n",
              "      <td>0</td>\n",
              "      <td>14</td>\n",
              "      <td>31</td>\n",
              "      <td>12</td>\n",
              "      <td>3</td>\n",
              "      <td>0</td>\n",
              "      <td>0</td>\n",
              "    </tr>\n",
              "    <tr>\n",
              "      <th>861</th>\n",
              "      <td>861</td>\n",
              "      <td>24</td>\n",
              "      <td>1</td>\n",
              "      <td>49.4</td>\n",
              "      <td>0</td>\n",
              "      <td>14</td>\n",
              "      <td>31</td>\n",
              "      <td>12</td>\n",
              "      <td>3</td>\n",
              "      <td>0</td>\n",
              "      <td>0</td>\n",
              "    </tr>\n",
              "    <tr>\n",
              "      <th>862</th>\n",
              "      <td>862</td>\n",
              "      <td>15</td>\n",
              "      <td>1</td>\n",
              "      <td>70.0</td>\n",
              "      <td>0</td>\n",
              "      <td>14</td>\n",
              "      <td>31</td>\n",
              "      <td>12</td>\n",
              "      <td>3</td>\n",
              "      <td>0</td>\n",
              "      <td>0</td>\n",
              "    </tr>\n",
              "  </tbody>\n",
              "</table>\n",
              "<p>691 rows × 11 columns</p>\n",
              "</div>\n",
              "      <button class=\"colab-df-convert\" onclick=\"convertToInteractive('df-9db16412-5363-45c2-9ef2-e008f334d5e5')\"\n",
              "              title=\"Convert this dataframe to an interactive table.\"\n",
              "              style=\"display:none;\">\n",
              "        \n",
              "  <svg xmlns=\"http://www.w3.org/2000/svg\" height=\"24px\"viewBox=\"0 0 24 24\"\n",
              "       width=\"24px\">\n",
              "    <path d=\"M0 0h24v24H0V0z\" fill=\"none\"/>\n",
              "    <path d=\"M18.56 5.44l.94 2.06.94-2.06 2.06-.94-2.06-.94-.94-2.06-.94 2.06-2.06.94zm-11 1L8.5 8.5l.94-2.06 2.06-.94-2.06-.94L8.5 2.5l-.94 2.06-2.06.94zm10 10l.94 2.06.94-2.06 2.06-.94-2.06-.94-.94-2.06-.94 2.06-2.06.94z\"/><path d=\"M17.41 7.96l-1.37-1.37c-.4-.4-.92-.59-1.43-.59-.52 0-1.04.2-1.43.59L10.3 9.45l-7.72 7.72c-.78.78-.78 2.05 0 2.83L4 21.41c.39.39.9.59 1.41.59.51 0 1.02-.2 1.41-.59l7.78-7.78 2.81-2.81c.8-.78.8-2.07 0-2.86zM5.41 20L4 18.59l7.72-7.72 1.47 1.35L5.41 20z\"/>\n",
              "  </svg>\n",
              "      </button>\n",
              "      \n",
              "  <style>\n",
              "    .colab-df-container {\n",
              "      display:flex;\n",
              "      flex-wrap:wrap;\n",
              "      gap: 12px;\n",
              "    }\n",
              "\n",
              "    .colab-df-convert {\n",
              "      background-color: #E8F0FE;\n",
              "      border: none;\n",
              "      border-radius: 50%;\n",
              "      cursor: pointer;\n",
              "      display: none;\n",
              "      fill: #1967D2;\n",
              "      height: 32px;\n",
              "      padding: 0 0 0 0;\n",
              "      width: 32px;\n",
              "    }\n",
              "\n",
              "    .colab-df-convert:hover {\n",
              "      background-color: #E2EBFA;\n",
              "      box-shadow: 0px 1px 2px rgba(60, 64, 67, 0.3), 0px 1px 3px 1px rgba(60, 64, 67, 0.15);\n",
              "      fill: #174EA6;\n",
              "    }\n",
              "\n",
              "    [theme=dark] .colab-df-convert {\n",
              "      background-color: #3B4455;\n",
              "      fill: #D2E3FC;\n",
              "    }\n",
              "\n",
              "    [theme=dark] .colab-df-convert:hover {\n",
              "      background-color: #434B5C;\n",
              "      box-shadow: 0px 1px 3px 1px rgba(0, 0, 0, 0.15);\n",
              "      filter: drop-shadow(0px 1px 2px rgba(0, 0, 0, 0.3));\n",
              "      fill: #FFFFFF;\n",
              "    }\n",
              "  </style>\n",
              "\n",
              "      <script>\n",
              "        const buttonEl =\n",
              "          document.querySelector('#df-9db16412-5363-45c2-9ef2-e008f334d5e5 button.colab-df-convert');\n",
              "        buttonEl.style.display =\n",
              "          google.colab.kernel.accessAllowed ? 'block' : 'none';\n",
              "\n",
              "        async function convertToInteractive(key) {\n",
              "          const element = document.querySelector('#df-9db16412-5363-45c2-9ef2-e008f334d5e5');\n",
              "          const dataTable =\n",
              "            await google.colab.kernel.invokeFunction('convertToInteractive',\n",
              "                                                     [key], {});\n",
              "          if (!dataTable) return;\n",
              "\n",
              "          const docLinkHtml = 'Like what you see? Visit the ' +\n",
              "            '<a target=\"_blank\" href=https://colab.research.google.com/notebooks/data_table.ipynb>data table notebook</a>'\n",
              "            + ' to learn more about interactive tables.';\n",
              "          element.innerHTML = '';\n",
              "          dataTable['output_type'] = 'display_data';\n",
              "          await google.colab.output.renderOutput(dataTable, element);\n",
              "          const docLink = document.createElement('div');\n",
              "          docLink.innerHTML = docLinkHtml;\n",
              "          element.appendChild(docLink);\n",
              "        }\n",
              "      </script>\n",
              "    </div>\n",
              "  </div>\n",
              "  "
            ]
          },
          "metadata": {},
          "execution_count": 157
        }
      ]
    },
    {
      "cell_type": "code",
      "source": [
        "X_dt = c_dataset.iloc[:, 1:9].values\n",
        "y_dt = c_dataset.iloc[:, -1].values"
      ],
      "metadata": {
        "id": "zFyrbNg621Lg"
      },
      "execution_count": null,
      "outputs": []
    },
    {
      "cell_type": "code",
      "source": [
        "X_train_dt, X_test_dt, y_train_dt, y_test_dt = train_test_split(X_dt, y_dt, test_size=0.1,random_state = 42 ,shuffle = True)\n"
      ],
      "metadata": {
        "id": "Kz32bsTh21M6"
      },
      "execution_count": null,
      "outputs": []
    },
    {
      "cell_type": "code",
      "source": [
        "cv_scores = []\n",
        "i_range = list(range (2,11))\n",
        "\n",
        "for i in i_range:\n",
        "    scores = cross_val_score(DecisionTreeClassifier() , X_train_dt, y_train_dt, cv = i,scoring='recall')\n",
        "    cv_scores.append(scores.mean())\n",
        "\n",
        "plt.plot(i_range, cv_scores)"
      ],
      "metadata": {
        "colab": {
          "base_uri": "https://localhost:8080/",
          "height": 282
        },
        "id": "3BrgUgbE4zDm",
        "outputId": "7b56e597-2b8b-4975-d7fd-2f87256a53b0"
      },
      "execution_count": null,
      "outputs": [
        {
          "output_type": "execute_result",
          "data": {
            "text/plain": [
              "[<matplotlib.lines.Line2D at 0x7f604863b8b0>]"
            ]
          },
          "metadata": {},
          "execution_count": 160
        },
        {
          "output_type": "display_data",
          "data": {
            "text/plain": [
              "<Figure size 432x288 with 1 Axes>"
            ],
            "image/png": "[encoded data removed]"
          },
          "metadata": {
            "needs_background": "light"
          }
        }
      ]
    },
    {
      "cell_type": "code",
      "source": [
        "grid = dict(\n",
        "    {\n",
        "        'criterion' :['gini', 'entropy'],\n",
        "        'max_features': ['auto', 'sqrt', 'log2'],\n",
        "        'ccp_alpha': [0.1, .01, .001],\n",
        "        'max_depth' : [5, 6, 7, 8, 9]\n",
        "    }\n",
        ")\n",
        "\n",
        "grid_Dec_Tree = GridSearchCV(DecisionTreeClassifier(random_state = 42), param_grid=grid, n_jobs=-1, cv=6 ,\\\n",
        "                             verbose=1,scoring='recall')\n",
        "\n",
        "grid_Dec_Tree.fit(X_train_dt, y_train_dt)\n",
        "y_pred = grid_Dec_Tree.predict(X_test_dt)\n",
        "\n",
        "print(grid_Dec_Tree.best_params_)"
      ],
      "metadata": {
        "colab": {
          "base_uri": "https://localhost:8080/"
        },
        "id": "sagSD58J21RH",
        "outputId": "5a64532a-2bbb-497c-eff1-96d225a96bd9"
      },
      "execution_count": null,
      "outputs": [
        {
          "output_type": "stream",
          "name": "stdout",
          "text": [
            "Fitting 6 folds for each of 90 candidates, totalling 540 fits\n",
            "{'ccp_alpha': 0.001, 'criterion': 'gini', 'max_depth': 8, 'max_features': 'log2'}\n"
          ]
        }
      ]
    },
    {
      "cell_type": "code",
      "source": [
        "#define classifier with best parameters\n",
        "Dec_Tree_clf = DecisionTreeClassifier(ccp_alpha = 0.001, criterion = 'gini', max_depth =8, max_features = 'log2',\\\n",
        "                                      random_state = 42)\n",
        "\n",
        "Dec_Tree_clf.fit(X_train_dt, y_train_dt)\n",
        "y_pred_dt = Dec_Tree_clf.predict(X_test_dt)"
      ],
      "metadata": {
        "id": "HgEZoRya6ZcD"
      },
      "execution_count": null,
      "outputs": []
    },
    {
      "cell_type": "code",
      "source": [
        "#compute the confusion matrix\n",
        "con_matrix = confusion_matrix(y_test_dt , y_pred_dt)\n",
        "print(con_matrix)"
      ],
      "metadata": {
        "colab": {
          "base_uri": "https://localhost:8080/"
        },
        "id": "CvLIAEIz6ZoO",
        "outputId": "8bbb763d-9b0e-4d1d-cb33-913c08388313"
      },
      "execution_count": null,
      "outputs": [
        {
          "output_type": "stream",
          "name": "stdout",
          "text": [
            "[[58  5]\n",
            " [ 0  7]]\n"
          ]
        }
      ]
    },
    {
      "cell_type": "code",
      "source": [
        "#plot the confusion matrix\n",
        "import numpy as np\n",
        "from sklearn.metrics import ConfusionMatrixDisplay\n",
        "\n",
        "def custom_confusion_matrix(y_true, y_pred_dt, display_labels=None):\n",
        "    \"\"\"\n",
        "    A function to plot a custom confusion matrix with\n",
        "    positive class as the first row and the first column.\n",
        "    \"\"\"\n",
        "    # Create a flipped matrix\n",
        "    cm = np.flip(confusion_matrix(y_true, y_pred_dt))\n",
        "    # Create the plot\n",
        "    fig, ax = plt.subplots(figsize=(8, 5))\n",
        "    cmp = ConfusionMatrixDisplay(cm, display_labels=display_labels)\n",
        "    cmp.plot(ax=ax)\n",
        "\n",
        "custom_confusion_matrix(\n",
        "  y_test_dt, y_pred_dt,\n",
        "  display_labels=['Recovered','Dead']\n",
        ")"
      ],
      "metadata": {
        "colab": {
          "base_uri": "https://localhost:8080/",
          "height": 334
        },
        "id": "1EWLiFzM6Zu0",
        "outputId": "cdeba4ec-d78f-4ddf-fbe8-9e55c09f3d6e"
      },
      "execution_count": null,
      "outputs": [
        {
          "output_type": "display_data",
          "data": {
            "text/plain": [
              "<Figure size 576x360 with 2 Axes>"
            ],
            "image/png": "[encoded data removed]"
          },
          "metadata": {
            "needs_background": "light"
          }
        }
      ]
    },
    {
      "cell_type": "code",
      "source": [
        "#compute precision, recall, F1-score, and ROC/AUC curves.\n",
        "print(\"precision_score : \",precision_score(y_test_dt , y_pred_dt))\n",
        "print(\"recall_score : \" ,recall_score(y_test_dt , y_pred_dt))\n",
        "print(\"roc_auc_score : \",roc_auc_score(y_test_dt , y_pred_dt))\n",
        "print(\"f1_score : \",f1_score(y_test_dt , y_pred_dt))\n",
        "print(\"accuracy_score : \",accuracy_score(y_test_dt,y_pred_dt))\n",
        "\n",
        "Decision_Tree_score = [\"Decision Tree\",accuracy_score(y_test_dt,y_pred_dt),precision_score(y_test_dt , y_pred_dt),\\\n",
        "                       recall_score(y_test_dt , y_pred_dt),f1_score(y_test_dt , y_pred_dt),f1_score(y_test_dt , y_pred_dt)]"
      ],
      "metadata": {
        "colab": {
          "base_uri": "https://localhost:8080/"
        },
        "id": "K-fi1Lzi8U_j",
        "outputId": "08975bda-d312-457b-d56a-f3dcc325cbbf"
      },
      "execution_count": null,
      "outputs": [
        {
          "output_type": "stream",
          "name": "stdout",
          "text": [
            "precision_score :  0.5833333333333334\n",
            "recall_score :  1.0\n",
            "roc_auc_score :  0.9603174603174603\n",
            "f1_score :  0.7368421052631579\n",
            "accuracy_score :  0.9285714285714286\n"
          ]
        }
      ]
    },
    {
      "cell_type": "code",
      "source": [
        "#plot roc curve\n",
        "x_test_pred_prob = Dec_Tree_clf.predict_proba(X_test_dt)[:,1]\n",
        "\n",
        "fpr, tpr, thresh = roc_curve(y_test_dt, x_test_pred_prob)\n",
        "plt.subplots(1, figsize=(10,10))\n",
        "plt.title('ROC curve')\n",
        "plt.plot(fpr, tpr)\n",
        "plt.plot([0, 1], ls=\"--\")\n",
        "plt.plot([0, 0], [1, 0] , c=\".7\"), plt.plot([1, 1] , c=\".7\")\n",
        "plt.ylabel('True Positive Rate')\n",
        "plt.xlabel('False Positive Rate')\n",
        "plt.show()"
      ],
      "metadata": {
        "colab": {
          "base_uri": "https://localhost:8080/",
          "height": 621
        },
        "id": "Xrlwull28VA_",
        "outputId": "31824aa3-736b-406c-c96e-6d7a8262bacd"
      },
      "execution_count": null,
      "outputs": [
        {
          "output_type": "display_data",
          "data": {
            "text/plain": [
              "<Figure size 720x720 with 1 Axes>"
            ],
            "image/png": "[encoded data removed]"
          },
          "metadata": {
            "needs_background": "light"
          }
        }
      ]
    },
    {
      "cell_type": "code",
      "source": [
        "#classification report\n",
        "targets = ['Recovered','Dead']\n",
        "clf_report = classification_report(y_test,\n",
        "                                       y_pred_dt,\n",
        "                                       target_names=targets,\n",
        "                                       output_dict=True)\n",
        "sns.heatmap(pd.DataFrame(clf_report).iloc[:-1, :].T, annot=True)"
      ],
      "metadata": {
        "colab": {
          "base_uri": "https://localhost:8080/",
          "height": 286
        },
        "id": "1rxK-kG88VFL",
        "outputId": "7a000c0e-4335-46b4-8555-9a502af4112c"
      },
      "execution_count": null,
      "outputs": [
        {
          "output_type": "execute_result",
          "data": {
            "text/plain": [
              "<AxesSubplot:>"
            ]
          },
          "metadata": {},
          "execution_count": 168
        },
        {
          "output_type": "display_data",
          "data": {
            "text/plain": [
              "<Figure size 432x288 with 2 Axes>"
            ],
            "image/png": "[encoded data removed]"
          },
          "metadata": {
            "needs_background": "light"
          }
        }
      ]
    },
    {
      "cell_type": "markdown",
      "source": [
        "4. Logistic Regression\n",
        "\n",
        "training the Logreg model using grid search and validate against training and testing using cross validation\n",
        "\n",
        "show each feature importance percentage\n",
        "\n",
        "using different metrics such as the precision, recall, F1-score, and ROC/AUC curves.\n"
      ],
      "metadata": {
        "id": "1IFnZ3FU3kYJ"
      }
    },
    {
      "cell_type": "code",
      "source": [
        "\n",
        "\n",
        "#2. Logistic Regression Classifier\n",
        "\n",
        "\n"
      ],
      "metadata": {
        "id": "oXh51iax_yu6"
      },
      "execution_count": null,
      "outputs": []
    },
    {
      "cell_type": "code",
      "source": [
        "#feature scaling using a standarization(\"wherewhere the mean of the c_dataset is 0 and the standard deviation is 1\")\n",
        "sc = StandardScaler()\n",
        "X_train_LR= sc.fit_transform(X_train)\n",
        "X_test_LR = sc.transform(X_test)"
      ],
      "metadata": {
        "id": "P1dM2Yvt_yyg"
      },
      "execution_count": null,
      "outputs": []
    },
    {
      "cell_type": "code",
      "source": [
        "#validate a logestic over multiple folds of c_dataset\n",
        "cross_v_scores = []\n",
        "i_range = list(range (2,11))\n",
        "\n",
        "for i in i_range:\n",
        "    scores = cross_val_score(LogisticRegression(), X_train_LR, y_train, cv = i,scoring='recall')\n",
        "    cross_v_scores.append(scores.mean())\n",
        "\n",
        "plt.plot(i_range, cross_v_scores)"
      ],
      "metadata": {
        "colab": {
          "base_uri": "https://localhost:8080/",
          "height": 282
        },
        "id": "8Lm8hvLYJYPu",
        "outputId": "093e2f29-c2ba-4490-cfa7-b463f370c889"
      },
      "execution_count": null,
      "outputs": [
        {
          "output_type": "execute_result",
          "data": {
            "text/plain": [
              "[<matplotlib.lines.Line2D at 0x7f60407b1e20>]"
            ]
          },
          "metadata": {},
          "execution_count": 308
        },
        {
          "output_type": "display_data",
          "data": {
            "text/plain": [
              "<Figure size 432x288 with 1 Axes>"
            ],
            "image/png": "[encoded data removed]"
          },
          "metadata": {
            "needs_background": "light"
          }
        }
      ]
    },
    {
      "cell_type": "code",
      "source": [
        "\n",
        "# logistic regression for feature importance\n",
        "from sklearn.datasets import make_classification\n",
        "from sklearn.linear_model import LogisticRegression\n",
        "from matplotlib import pyplot\n",
        "# define dataset\n",
        "X_train_LR, y_train= make_classification(n_samples=775, n_features=13, n_informative=5, n_redundant=5, random_state=1)\n",
        "# define the model\n",
        "model = LogisticRegression()\n",
        "# fit the model\n",
        "model.fit(X_train_LR, y_train)\n",
        "# get importance\n",
        "importance = model.coef_[0]\n",
        "# summarize feature importance\n",
        "for i,v in enumerate(importance):\n",
        " print('Feature: %0d, Score: %.5f' % (i,v))\n",
        "# plot feature importance\n",
        "pyplot.bar([x for x in range(len(importance))], importance)\n",
        "pyplot.show()"
      ],
      "metadata": {
        "colab": {
          "base_uri": "https://localhost:8080/",
          "height": 491
        },
        "id": "kdqt5KvWAE6g",
        "outputId": "e484bed7-4107-4edf-d184-dbe46bd27886"
      },
      "execution_count": null,
      "outputs": [
        {
          "output_type": "stream",
          "name": "stdout",
          "text": [
            "Feature: 0, Score: -0.14195\n",
            "Feature: 1, Score: 0.02278\n",
            "Feature: 2, Score: -0.42400\n",
            "Feature: 3, Score: -0.73924\n",
            "Feature: 4, Score: 0.07950\n",
            "Feature: 5, Score: -0.29456\n",
            "Feature: 6, Score: 0.50886\n",
            "Feature: 7, Score: 0.20610\n",
            "Feature: 8, Score: 0.08090\n",
            "Feature: 9, Score: 0.06235\n",
            "Feature: 10, Score: 0.02745\n",
            "Feature: 11, Score: 0.11332\n",
            "Feature: 12, Score: -0.26028\n"
          ]
        },
        {
          "output_type": "display_data",
          "data": {
            "text/plain": [
              "<Figure size 432x288 with 1 Axes>"
            ],
            "image/png": "[encoded data removed]"
          },
          "metadata": {
            "needs_background": "light"
          }
        }
      ]
    },
    {
      "cell_type": "code",
      "source": [
        "features = [\"location\" ,\"country\",\"gender\",\"age\",\"vis_wuhan\",\"from_wuhan\",\"symptom1\",\"symptom2\",\"symptom3\",\"symptom4\",\\\n",
        "                \"symptom5\",\"symptom6\",\"diff_sym_hos\"]"
      ],
      "metadata": {
        "id": "paLKgyqlDAHS"
      },
      "execution_count": null,
      "outputs": []
    },
    {
      "cell_type": "code",
      "source": [
        "\"\"\"\n",
        "#drop non important features\n",
        "c_dataset= c_dataset.drop(\"location\", axis='columns')\n",
        "c_dataset= c_dataset.drop(\"gender\", axis='columns')\n",
        "c_dataset= c_dataset.drop(\"from_wuhan\", axis='columns')\n",
        "c_dataset= c_dataset.drop(\"diff_sym_hos\", axis='columns')\n",
        "c_dataset= c_dataset.drop(\"age\", axis='columns')\"\"\"\n",
        "\"\"\"\n",
        "\n",
        "\n",
        "# when i apply drop to some non important feature the logreg model doesn't work well so i cancelled the cell\n",
        "\n"
      ],
      "metadata": {
        "id": "1SEzm4hqDANh"
      },
      "execution_count": null,
      "outputs": []
    },
    {
      "cell_type": "code",
      "source": [
        "c_dataset"
      ],
      "metadata": {
        "id": "kwTTZgl5DoBg",
        "colab": {
          "base_uri": "https://localhost:8080/",
          "height": 423
        },
        "outputId": "90540abf-395e-4a82-f10c-cef95d6fe3d4"
      },
      "execution_count": null,
      "outputs": [
        {
          "output_type": "execute_result",
          "data": {
            "text/plain": [
              "     Unnamed: 0  location  country  gender   age  vis_wuhan  from_wuhan  \\\n",
              "0             0       104        8       1  66.0          1           0   \n",
              "1             1       101        8       0  56.0          0           1   \n",
              "2             2       137        8       1  46.0          0           1   \n",
              "3             3       116        8       0  60.0          1           0   \n",
              "4             4       116        8       1  58.0          0           0   \n",
              "..          ...       ...      ...     ...   ...        ...         ...   \n",
              "855         855        10        4       0  49.4          0           0   \n",
              "856         856        10        4       0  49.4          0           0   \n",
              "860         860         3        1       1  49.4          0           0   \n",
              "861         861        24        9       1  49.4          0           0   \n",
              "862         862        15       27       1  70.0          0           0   \n",
              "\n",
              "     symptom1  symptom2  symptom3  symptom4  symptom5  symptom6  diff_sym_hos  \\\n",
              "0          14        31        19        12         3         1             8   \n",
              "1          14        31        19        12         3         1             0   \n",
              "2          14        31        19        12         3         1            13   \n",
              "3          14        31        19        12         3         1             0   \n",
              "4          14        31        19        12         3         1             0   \n",
              "..        ...       ...       ...       ...       ...       ...           ...   \n",
              "855        14        31        19        12         3         1             0   \n",
              "856        14        31        19        12         3         1             0   \n",
              "860        14        31        19        12         3         1             0   \n",
              "861        14        31        19        12         3         1             0   \n",
              "862        14        31        19        12         3         1             0   \n",
              "\n",
              "     result  \n",
              "0         1  \n",
              "1         0  \n",
              "2         0  \n",
              "3         0  \n",
              "4         0  \n",
              "..      ...  \n",
              "855       0  \n",
              "856       0  \n",
              "860       0  \n",
              "861       0  \n",
              "862       0  \n",
              "\n",
              "[691 rows x 15 columns]"
            ],
            "text/html": [
              "\n",
              "  <div id=\"df-4dbc0a6e-ac32-4dde-9cf8-edb3ee9e4a41\">\n",
              "    <div class=\"colab-df-container\">\n",
              "      <div>\n",
              "<style scoped>\n",
              "    .dataframe tbody tr th:only-of-type {\n",
              "        vertical-align: middle;\n",
              "    }\n",
              "\n",
              "    .dataframe tbody tr th {\n",
              "        vertical-align: top;\n",
              "    }\n",
              "\n",
              "    .dataframe thead th {\n",
              "        text-align: right;\n",
              "    }\n",
              "</style>\n",
              "<table border=\"1\" class=\"dataframe\">\n",
              "  <thead>\n",
              "    <tr style=\"text-align: right;\">\n",
              "      <th></th>\n",
              "      <th>Unnamed: 0</th>\n",
              "      <th>location</th>\n",
              "      <th>country</th>\n",
              "      <th>gender</th>\n",
              "      <th>age</th>\n",
              "      <th>vis_wuhan</th>\n",
              "      <th>from_wuhan</th>\n",
              "      <th>symptom1</th>\n",
              "      <th>symptom2</th>\n",
              "      <th>symptom3</th>\n",
              "      <th>symptom4</th>\n",
              "      <th>symptom5</th>\n",
              "      <th>symptom6</th>\n",
              "      <th>diff_sym_hos</th>\n",
              "      <th>result</th>\n",
              "    </tr>\n",
              "  </thead>\n",
              "  <tbody>\n",
              "    <tr>\n",
              "      <th>0</th>\n",
              "      <td>0</td>\n",
              "      <td>104</td>\n",
              "      <td>8</td>\n",
              "      <td>1</td>\n",
              "      <td>66.0</td>\n",
              "      <td>1</td>\n",
              "      <td>0</td>\n",
              "      <td>14</td>\n",
              "      <td>31</td>\n",
              "      <td>19</td>\n",
              "      <td>12</td>\n",
              "      <td>3</td>\n",
              "      <td>1</td>\n",
              "      <td>8</td>\n",
              "      <td>1</td>\n",
              "    </tr>\n",
              "    <tr>\n",
              "      <th>1</th>\n",
              "      <td>1</td>\n",
              "      <td>101</td>\n",
              "      <td>8</td>\n",
              "      <td>0</td>\n",
              "      <td>56.0</td>\n",
              "      <td>0</td>\n",
              "      <td>1</td>\n",
              "      <td>14</td>\n",
              "      <td>31</td>\n",
              "      <td>19</td>\n",
              "      <td>12</td>\n",
              "      <td>3</td>\n",
              "      <td>1</td>\n",
              "      <td>0</td>\n",
              "      <td>0</td>\n",
              "    </tr>\n",
              "    <tr>\n",
              "      <th>2</th>\n",
              "      <td>2</td>\n",
              "      <td>137</td>\n",
              "      <td>8</td>\n",
              "      <td>1</td>\n",
              "      <td>46.0</td>\n",
              "      <td>0</td>\n",
              "      <td>1</td>\n",
              "      <td>14</td>\n",
              "      <td>31</td>\n",
              "      <td>19</td>\n",
              "      <td>12</td>\n",
              "      <td>3</td>\n",
              "      <td>1</td>\n",
              "      <td>13</td>\n",
              "      <td>0</td>\n",
              "    </tr>\n",
              "    <tr>\n",
              "      <th>3</th>\n",
              "      <td>3</td>\n",
              "      <td>116</td>\n",
              "      <td>8</td>\n",
              "      <td>0</td>\n",
              "      <td>60.0</td>\n",
              "      <td>1</td>\n",
              "      <td>0</td>\n",
              "      <td>14</td>\n",
              "      <td>31</td>\n",
              "      <td>19</td>\n",
              "      <td>12</td>\n",
              "      <td>3</td>\n",
              "      <td>1</td>\n",
              "      <td>0</td>\n",
              "      <td>0</td>\n",
              "    </tr>\n",
              "    <tr>\n",
              "      <th>4</th>\n",
              "      <td>4</td>\n",
              "      <td>116</td>\n",
              "      <td>8</td>\n",
              "      <td>1</td>\n",
              "      <td>58.0</td>\n",
              "      <td>0</td>\n",
              "      <td>0</td>\n",
              "      <td>14</td>\n",
              "      <td>31</td>\n",
              "      <td>19</td>\n",
              "      <td>12</td>\n",
              "      <td>3</td>\n",
              "      <td>1</td>\n",
              "      <td>0</td>\n",
              "      <td>0</td>\n",
              "    </tr>\n",
              "    <tr>\n",
              "      <th>...</th>\n",
              "      <td>...</td>\n",
              "      <td>...</td>\n",
              "      <td>...</td>\n",
              "      <td>...</td>\n",
              "      <td>...</td>\n",
              "      <td>...</td>\n",
              "      <td>...</td>\n",
              "      <td>...</td>\n",
              "      <td>...</td>\n",
              "      <td>...</td>\n",
              "      <td>...</td>\n",
              "      <td>...</td>\n",
              "      <td>...</td>\n",
              "      <td>...</td>\n",
              "      <td>...</td>\n",
              "    </tr>\n",
              "    <tr>\n",
              "      <th>855</th>\n",
              "      <td>855</td>\n",
              "      <td>10</td>\n",
              "      <td>4</td>\n",
              "      <td>0</td>\n",
              "      <td>49.4</td>\n",
              "      <td>0</td>\n",
              "      <td>0</td>\n",
              "      <td>14</td>\n",
              "      <td>31</td>\n",
              "      <td>19</td>\n",
              "      <td>12</td>\n",
              "      <td>3</td>\n",
              "      <td>1</td>\n",
              "      <td>0</td>\n",
              "      <td>0</td>\n",
              "    </tr>\n",
              "    <tr>\n",
              "      <th>856</th>\n",
              "      <td>856</td>\n",
              "      <td>10</td>\n",
              "      <td>4</td>\n",
              "      <td>0</td>\n",
              "      <td>49.4</td>\n",
              "      <td>0</td>\n",
              "      <td>0</td>\n",
              "      <td>14</td>\n",
              "      <td>31</td>\n",
              "      <td>19</td>\n",
              "      <td>12</td>\n",
              "      <td>3</td>\n",
              "      <td>1</td>\n",
              "      <td>0</td>\n",
              "      <td>0</td>\n",
              "    </tr>\n",
              "    <tr>\n",
              "      <th>860</th>\n",
              "      <td>860</td>\n",
              "      <td>3</td>\n",
              "      <td>1</td>\n",
              "      <td>1</td>\n",
              "      <td>49.4</td>\n",
              "      <td>0</td>\n",
              "      <td>0</td>\n",
              "      <td>14</td>\n",
              "      <td>31</td>\n",
              "      <td>19</td>\n",
              "      <td>12</td>\n",
              "      <td>3</td>\n",
              "      <td>1</td>\n",
              "      <td>0</td>\n",
              "      <td>0</td>\n",
              "    </tr>\n",
              "    <tr>\n",
              "      <th>861</th>\n",
              "      <td>861</td>\n",
              "      <td>24</td>\n",
              "      <td>9</td>\n",
              "      <td>1</td>\n",
              "      <td>49.4</td>\n",
              "      <td>0</td>\n",
              "      <td>0</td>\n",
              "      <td>14</td>\n",
              "      <td>31</td>\n",
              "      <td>19</td>\n",
              "      <td>12</td>\n",
              "      <td>3</td>\n",
              "      <td>1</td>\n",
              "      <td>0</td>\n",
              "      <td>0</td>\n",
              "    </tr>\n",
              "    <tr>\n",
              "      <th>862</th>\n",
              "      <td>862</td>\n",
              "      <td>15</td>\n",
              "      <td>27</td>\n",
              "      <td>1</td>\n",
              "      <td>70.0</td>\n",
              "      <td>0</td>\n",
              "      <td>0</td>\n",
              "      <td>14</td>\n",
              "      <td>31</td>\n",
              "      <td>19</td>\n",
              "      <td>12</td>\n",
              "      <td>3</td>\n",
              "      <td>1</td>\n",
              "      <td>0</td>\n",
              "      <td>0</td>\n",
              "    </tr>\n",
              "  </tbody>\n",
              "</table>\n",
              "<p>691 rows × 15 columns</p>\n",
              "</div>\n",
              "      <button class=\"colab-df-convert\" onclick=\"convertToInteractive('df-4dbc0a6e-ac32-4dde-9cf8-edb3ee9e4a41')\"\n",
              "              title=\"Convert this dataframe to an interactive table.\"\n",
              "              style=\"display:none;\">\n",
              "        \n",
              "  <svg xmlns=\"http://www.w3.org/2000/svg\" height=\"24px\"viewBox=\"0 0 24 24\"\n",
              "       width=\"24px\">\n",
              "    <path d=\"M0 0h24v24H0V0z\" fill=\"none\"/>\n",
              "    <path d=\"M18.56 5.44l.94 2.06.94-2.06 2.06-.94-2.06-.94-.94-2.06-.94 2.06-2.06.94zm-11 1L8.5 8.5l.94-2.06 2.06-.94-2.06-.94L8.5 2.5l-.94 2.06-2.06.94zm10 10l.94 2.06.94-2.06 2.06-.94-2.06-.94-.94-2.06-.94 2.06-2.06.94z\"/><path d=\"M17.41 7.96l-1.37-1.37c-.4-.4-.92-.59-1.43-.59-.52 0-1.04.2-1.43.59L10.3 9.45l-7.72 7.72c-.78.78-.78 2.05 0 2.83L4 21.41c.39.39.9.59 1.41.59.51 0 1.02-.2 1.41-.59l7.78-7.78 2.81-2.81c.8-.78.8-2.07 0-2.86zM5.41 20L4 18.59l7.72-7.72 1.47 1.35L5.41 20z\"/>\n",
              "  </svg>\n",
              "      </button>\n",
              "      \n",
              "  <style>\n",
              "    .colab-df-container {\n",
              "      display:flex;\n",
              "      flex-wrap:wrap;\n",
              "      gap: 12px;\n",
              "    }\n",
              "\n",
              "    .colab-df-convert {\n",
              "      background-color: #E8F0FE;\n",
              "      border: none;\n",
              "      border-radius: 50%;\n",
              "      cursor: pointer;\n",
              "      display: none;\n",
              "      fill: #1967D2;\n",
              "      height: 32px;\n",
              "      padding: 0 0 0 0;\n",
              "      width: 32px;\n",
              "    }\n",
              "\n",
              "    .colab-df-convert:hover {\n",
              "      background-color: #E2EBFA;\n",
              "      box-shadow: 0px 1px 2px rgba(60, 64, 67, 0.3), 0px 1px 3px 1px rgba(60, 64, 67, 0.15);\n",
              "      fill: #174EA6;\n",
              "    }\n",
              "\n",
              "    [theme=dark] .colab-df-convert {\n",
              "      background-color: #3B4455;\n",
              "      fill: #D2E3FC;\n",
              "    }\n",
              "\n",
              "    [theme=dark] .colab-df-convert:hover {\n",
              "      background-color: #434B5C;\n",
              "      box-shadow: 0px 1px 3px 1px rgba(0, 0, 0, 0.15);\n",
              "      filter: drop-shadow(0px 1px 2px rgba(0, 0, 0, 0.3));\n",
              "      fill: #FFFFFF;\n",
              "    }\n",
              "  </style>\n",
              "\n",
              "      <script>\n",
              "        const buttonEl =\n",
              "          document.querySelector('#df-4dbc0a6e-ac32-4dde-9cf8-edb3ee9e4a41 button.colab-df-convert');\n",
              "        buttonEl.style.display =\n",
              "          google.colab.kernel.accessAllowed ? 'block' : 'none';\n",
              "\n",
              "        async function convertToInteractive(key) {\n",
              "          const element = document.querySelector('#df-4dbc0a6e-ac32-4dde-9cf8-edb3ee9e4a41');\n",
              "          const dataTable =\n",
              "            await google.colab.kernel.invokeFunction('convertToInteractive',\n",
              "                                                     [key], {});\n",
              "          if (!dataTable) return;\n",
              "\n",
              "          const docLinkHtml = 'Like what you see? Visit the ' +\n",
              "            '<a target=\"_blank\" href=https://colab.research.google.com/notebooks/data_table.ipynb>data table notebook</a>'\n",
              "            + ' to learn more about interactive tables.';\n",
              "          element.innerHTML = '';\n",
              "          dataTable['output_type'] = 'display_data';\n",
              "          await google.colab.output.renderOutput(dataTable, element);\n",
              "          const docLink = document.createElement('div');\n",
              "          docLink.innerHTML = docLinkHtml;\n",
              "          element.appendChild(docLink);\n",
              "        }\n",
              "      </script>\n",
              "    </div>\n",
              "  </div>\n",
              "  "
            ]
          },
          "metadata": {},
          "execution_count": 311
        }
      ]
    },
    {
      "cell_type": "code",
      "source": [
        "X_LR = c_dataset.iloc[:, 1:13].values\n",
        "y_LR = c_dataset.iloc[:, -1].values"
      ],
      "metadata": {
        "id": "YYh3aaLpDoDC"
      },
      "execution_count": null,
      "outputs": []
    },
    {
      "cell_type": "code",
      "source": [
        "X_train_LR1, X_test_LR1, y_train_LR1, y_test_LR1 = train_test_split(X_LR, y_LR, test_size=0.1,random_state = 42 ,shuffle = True)\n"
      ],
      "metadata": {
        "id": "1DopJPZEDoGs"
      },
      "execution_count": null,
      "outputs": []
    },
    {
      "cell_type": "code",
      "source": [
        "cv_scores = []\n",
        "i_range = list(range (2,11))\n",
        "\n",
        "for i in i_range:\n",
        "    scores = cross_val_score(DecisionTreeClassifier() , X_train_LR1, y_train_LR1, cv = i,scoring='recall')\n",
        "    cv_scores.append(scores.mean())\n",
        "\n",
        "plt.plot(i_range, cv_scores)"
      ],
      "metadata": {
        "id": "C73djI-PDoJh",
        "colab": {
          "base_uri": "https://localhost:8080/",
          "height": 282
        },
        "outputId": "247137e0-ccbf-4c4a-8ffd-365517c37edd"
      },
      "execution_count": null,
      "outputs": [
        {
          "output_type": "execute_result",
          "data": {
            "text/plain": [
              "[<matplotlib.lines.Line2D at 0x7f60406f6a30>]"
            ]
          },
          "metadata": {},
          "execution_count": 314
        },
        {
          "output_type": "display_data",
          "data": {
            "text/plain": [
              "<Figure size 432x288 with 1 Axes>"
            ],
            "image/png": "[encoded data removed]"
          },
          "metadata": {
            "needs_background": "light"
          }
        }
      ]
    },
    {
      "cell_type": "code",
      "source": [
        "\n",
        "\n",
        "#grid search for logestic regression\n",
        "\n",
        "\n",
        "\n"
      ],
      "metadata": {
        "id": "J_Xdivj3Zoyu"
      },
      "execution_count": null,
      "outputs": []
    },
    {
      "cell_type": "code",
      "source": [
        "from sklearn.linear_model import LogisticRegression\n",
        "\n",
        "# define grid search\n",
        "grid = dict(\n",
        "    {\n",
        "    'penalty' : ['l1', 'l2', 'elasticnet', 'none'],\n",
        "    'C' : np.logspace(-4, 4, 20),\n",
        "    'solver' : ['lbfgs','newton-cg','liblinear','sag','saga'],\n",
        "    'max_iter' : [100, 1000,2500, 5000]\n",
        "    }\n",
        ")\n",
        "\n",
        "grid_LR = GridSearchCV(LogisticRegression(), param_grid=grid, n_jobs=-1, cv=6,error_score=0,verbose=1)\n",
        "grid_LR.fit(X_train_LR1, y_train_LR1)\n"
      ],
      "metadata": {
        "colab": {
          "base_uri": "https://localhost:8080/"
        },
        "id": "ODjC0p5qRl0X",
        "outputId": "338170d0-737b-4836-b28b-f3241c88d102"
      },
      "execution_count": null,
      "outputs": [
        {
          "output_type": "stream",
          "name": "stdout",
          "text": [
            "Fitting 6 folds for each of 1600 candidates, totalling 9600 fits\n"
          ]
        },
        {
          "output_type": "stream",
          "name": "stderr",
          "text": [
            "/usr/local/lib/python3.8/dist-packages/sklearn/model_selection/_validation.py:372: FitFailedWarning: \n",
            "4320 fits failed out of a total of 9600.\n",
            "The score on these train-test partitions for these parameters will be set to 0.\n",
            "If these failures are not expected, you can try to debug them by setting error_score='raise'.\n",
            "\n",
            "Below are more details about the failures:\n",
            "--------------------------------------------------------------------------------\n",
            "480 fits failed with the following error:\n",
            "Traceback (most recent call last):\n",
            "  File \"/usr/local/lib/python3.8/dist-packages/sklearn/model_selection/_validation.py\", line 680, in _fit_and_score\n",
            "    estimator.fit(X_train, y_train, **fit_params)\n",
            "  File \"/usr/local/lib/python3.8/dist-packages/sklearn/linear_model/_logistic.py\", line 1461, in fit\n",
            "    solver = _check_solver(self.solver, self.penalty, self.dual)\n",
            "  File \"/usr/local/lib/python3.8/dist-packages/sklearn/linear_model/_logistic.py\", line 447, in _check_solver\n",
            "    raise ValueError(\n",
            "ValueError: Solver lbfgs supports only 'l2' or 'none' penalties, got l1 penalty.\n",
            "\n",
            "--------------------------------------------------------------------------------\n",
            "480 fits failed with the following error:\n",
            "Traceback (most recent call last):\n",
            "  File \"/usr/local/lib/python3.8/dist-packages/sklearn/model_selection/_validation.py\", line 680, in _fit_and_score\n",
            "    estimator.fit(X_train, y_train, **fit_params)\n",
            "  File \"/usr/local/lib/python3.8/dist-packages/sklearn/linear_model/_logistic.py\", line 1461, in fit\n",
            "    solver = _check_solver(self.solver, self.penalty, self.dual)\n",
            "  File \"/usr/local/lib/python3.8/dist-packages/sklearn/linear_model/_logistic.py\", line 447, in _check_solver\n",
            "    raise ValueError(\n",
            "ValueError: Solver newton-cg supports only 'l2' or 'none' penalties, got l1 penalty.\n",
            "\n",
            "--------------------------------------------------------------------------------\n",
            "480 fits failed with the following error:\n",
            "Traceback (most recent call last):\n",
            "  File \"/usr/local/lib/python3.8/dist-packages/sklearn/model_selection/_validation.py\", line 680, in _fit_and_score\n",
            "    estimator.fit(X_train, y_train, **fit_params)\n",
            "  File \"/usr/local/lib/python3.8/dist-packages/sklearn/linear_model/_logistic.py\", line 1461, in fit\n",
            "    solver = _check_solver(self.solver, self.penalty, self.dual)\n",
            "  File \"/usr/local/lib/python3.8/dist-packages/sklearn/linear_model/_logistic.py\", line 447, in _check_solver\n",
            "    raise ValueError(\n",
            "ValueError: Solver sag supports only 'l2' or 'none' penalties, got l1 penalty.\n",
            "\n",
            "--------------------------------------------------------------------------------\n",
            "480 fits failed with the following error:\n",
            "Traceback (most recent call last):\n",
            "  File \"/usr/local/lib/python3.8/dist-packages/sklearn/model_selection/_validation.py\", line 680, in _fit_and_score\n",
            "    estimator.fit(X_train, y_train, **fit_params)\n",
            "  File \"/usr/local/lib/python3.8/dist-packages/sklearn/linear_model/_logistic.py\", line 1461, in fit\n",
            "    solver = _check_solver(self.solver, self.penalty, self.dual)\n",
            "  File \"/usr/local/lib/python3.8/dist-packages/sklearn/linear_model/_logistic.py\", line 447, in _check_solver\n",
            "    raise ValueError(\n",
            "ValueError: Solver lbfgs supports only 'l2' or 'none' penalties, got elasticnet penalty.\n",
            "\n",
            "--------------------------------------------------------------------------------\n",
            "480 fits failed with the following error:\n",
            "Traceback (most recent call last):\n",
            "  File \"/usr/local/lib/python3.8/dist-packages/sklearn/model_selection/_validation.py\", line 680, in _fit_and_score\n",
            "    estimator.fit(X_train, y_train, **fit_params)\n",
            "  File \"/usr/local/lib/python3.8/dist-packages/sklearn/linear_model/_logistic.py\", line 1461, in fit\n",
            "    solver = _check_solver(self.solver, self.penalty, self.dual)\n",
            "  File \"/usr/local/lib/python3.8/dist-packages/sklearn/linear_model/_logistic.py\", line 447, in _check_solver\n",
            "    raise ValueError(\n",
            "ValueError: Solver newton-cg supports only 'l2' or 'none' penalties, got elasticnet penalty.\n",
            "\n",
            "--------------------------------------------------------------------------------\n",
            "480 fits failed with the following error:\n",
            "Traceback (most recent call last):\n",
            "  File \"/usr/local/lib/python3.8/dist-packages/sklearn/model_selection/_validation.py\", line 680, in _fit_and_score\n",
            "    estimator.fit(X_train, y_train, **fit_params)\n",
            "  File \"/usr/local/lib/python3.8/dist-packages/sklearn/linear_model/_logistic.py\", line 1461, in fit\n",
            "    solver = _check_solver(self.solver, self.penalty, self.dual)\n",
            "  File \"/usr/local/lib/python3.8/dist-packages/sklearn/linear_model/_logistic.py\", line 457, in _check_solver\n",
            "    raise ValueError(\n",
            "ValueError: Only 'saga' solver supports elasticnet penalty, got solver=liblinear.\n",
            "\n",
            "--------------------------------------------------------------------------------\n",
            "480 fits failed with the following error:\n",
            "Traceback (most recent call last):\n",
            "  File \"/usr/local/lib/python3.8/dist-packages/sklearn/model_selection/_validation.py\", line 680, in _fit_and_score\n",
            "    estimator.fit(X_train, y_train, **fit_params)\n",
            "  File \"/usr/local/lib/python3.8/dist-packages/sklearn/linear_model/_logistic.py\", line 1461, in fit\n",
            "    solver = _check_solver(self.solver, self.penalty, self.dual)\n",
            "  File \"/usr/local/lib/python3.8/dist-packages/sklearn/linear_model/_logistic.py\", line 447, in _check_solver\n",
            "    raise ValueError(\n",
            "ValueError: Solver sag supports only 'l2' or 'none' penalties, got elasticnet penalty.\n",
            "\n",
            "--------------------------------------------------------------------------------\n",
            "480 fits failed with the following error:\n",
            "Traceback (most recent call last):\n",
            "  File \"/usr/local/lib/python3.8/dist-packages/sklearn/model_selection/_validation.py\", line 680, in _fit_and_score\n",
            "    estimator.fit(X_train, y_train, **fit_params)\n",
            "  File \"/usr/local/lib/python3.8/dist-packages/sklearn/linear_model/_logistic.py\", line 1471, in fit\n",
            "    raise ValueError(\n",
            "ValueError: l1_ratio must be between 0 and 1; got (l1_ratio=None)\n",
            "\n",
            "--------------------------------------------------------------------------------\n",
            "480 fits failed with the following error:\n",
            "Traceback (most recent call last):\n",
            "  File \"/usr/local/lib/python3.8/dist-packages/sklearn/model_selection/_validation.py\", line 680, in _fit_and_score\n",
            "    estimator.fit(X_train, y_train, **fit_params)\n",
            "  File \"/usr/local/lib/python3.8/dist-packages/sklearn/linear_model/_logistic.py\", line 1461, in fit\n",
            "    solver = _check_solver(self.solver, self.penalty, self.dual)\n",
            "  File \"/usr/local/lib/python3.8/dist-packages/sklearn/linear_model/_logistic.py\", line 464, in _check_solver\n",
            "    raise ValueError(\"penalty='none' is not supported for the liblinear solver\")\n",
            "ValueError: penalty='none' is not supported for the liblinear solver\n",
            "\n",
            "  warnings.warn(some_fits_failed_message, FitFailedWarning)\n",
            "/usr/local/lib/python3.8/dist-packages/sklearn/linear_model/_logistic.py:814: ConvergenceWarning: lbfgs failed to converge (status=1):\n",
            "STOP: TOTAL NO. of ITERATIONS REACHED LIMIT.\n",
            "\n",
            "Increase the number of iterations (max_iter) or scale the data as shown in:\n",
            "    https://scikit-learn.org/stable/modules/preprocessing.html\n",
            "Please also refer to the documentation for alternative solver options:\n",
            "    https://scikit-learn.org/stable/modules/linear_model.html#logistic-regression\n",
            "  n_iter_i = _check_optimize_result(\n"
          ]
        },
        {
          "output_type": "execute_result",
          "data": {
            "text/plain": [
              "GridSearchCV(cv=6, error_score=0, estimator=LogisticRegression(), n_jobs=-1,\n",
              "             param_grid={'C': array([1.00000000e-04, 2.63665090e-04, 6.95192796e-04, 1.83298071e-03,\n",
              "       4.83293024e-03, 1.27427499e-02, 3.35981829e-02, 8.85866790e-02,\n",
              "       2.33572147e-01, 6.15848211e-01, 1.62377674e+00, 4.28133240e+00,\n",
              "       1.12883789e+01, 2.97635144e+01, 7.84759970e+01, 2.06913808e+02,\n",
              "       5.45559478e+02, 1.43844989e+03, 3.79269019e+03, 1.00000000e+04]),\n",
              "                         'max_iter': [100, 1000, 2500, 5000],\n",
              "                         'penalty': ['l1', 'l2', 'elasticnet', 'none'],\n",
              "                         'solver': ['lbfgs', 'newton-cg', 'liblinear', 'sag',\n",
              "                                    'saga']},\n",
              "             verbose=1)"
            ]
          },
          "metadata": {},
          "execution_count": 316
        }
      ]
    },
    {
      "cell_type": "code",
      "source": [
        "y_pred_LR1= grid_LR.predict(X_test_LR1)\n"
      ],
      "metadata": {
        "id": "vDEC600OSegk"
      },
      "execution_count": null,
      "outputs": []
    },
    {
      "cell_type": "code",
      "source": [
        "print(grid_LR.best_params_)"
      ],
      "metadata": {
        "colab": {
          "base_uri": "https://localhost:8080/"
        },
        "id": "0pBwH3T4S0iQ",
        "outputId": "199f48e7-f59f-45dc-f6ef-ceb80844cca7"
      },
      "execution_count": null,
      "outputs": [
        {
          "output_type": "stream",
          "name": "stdout",
          "text": [
            "{'C': 4.281332398719396, 'max_iter': 100, 'penalty': 'l2', 'solver': 'lbfgs'}\n"
          ]
        }
      ]
    },
    {
      "cell_type": "code",
      "source": [
        "con_matrix = confusion_matrix(y_test_LR1 ,y_pred_LR1)\n",
        "print(con_matrix)"
      ],
      "metadata": {
        "colab": {
          "base_uri": "https://localhost:8080/"
        },
        "id": "-610lqYsa89q",
        "outputId": "6fd75314-a9ad-4ee2-cb42-0a69fbb3dfa9"
      },
      "execution_count": null,
      "outputs": [
        {
          "output_type": "stream",
          "name": "stdout",
          "text": [
            "[[60  3]\n",
            " [ 0  7]]\n"
          ]
        }
      ]
    },
    {
      "cell_type": "code",
      "source": [
        "#plot the confusion matrix\n",
        "import numpy as np\n",
        "from sklearn.metrics import ConfusionMatrixDisplay\n",
        "\n",
        "def custom_confusion_matrix(y_true, y_pred_LR1, display_labels=None):\n",
        "    \"\"\"\n",
        "    A function to plot a custom confusion matrix with\n",
        "    positive class as the first row and the first column.\n",
        "    \"\"\"\n",
        "    # Create a flipped matrix\n",
        "    cm = np.flip(confusion_matrix(y_true, y_pred_LR1))\n",
        "    # Create the plot\n",
        "    fig, ax = plt.subplots(figsize=(8, 5))\n",
        "    cmp = ConfusionMatrixDisplay(cm, display_labels=display_labels)\n",
        "    cmp.plot(ax=ax)\n",
        "\n",
        "custom_confusion_matrix(\n",
        "  y_test_LR1, y_pred_LR1,\n",
        "  display_labels=['Recovered','Dead']\n",
        ")"
      ],
      "metadata": {
        "colab": {
          "base_uri": "https://localhost:8080/",
          "height": 338
        },
        "id": "MmBWP_cqaaGU",
        "outputId": "33444cae-04ab-4b08-cadb-9e739d46edb6"
      },
      "execution_count": null,
      "outputs": [
        {
          "output_type": "display_data",
          "data": {
            "text/plain": [
              "<Figure size 576x360 with 2 Axes>"
            ],
            "image/png": "[encoded data removed]"
          },
          "metadata": {
            "needs_background": "light"
          }
        }
      ]
    },
    {
      "cell_type": "code",
      "source": [
        "#using different metrics such as the precision, recall, F1-score, and ROC/AUC curves for logestic regression\n",
        "print(\"precision_score : \",precision_score(y_test_LR1 , y_pred_LR1))\n",
        "print(\"recall_score : \" ,recall_score(y_test_LR1 , y_pred_LR1))\n",
        "print(\"roc_auc_score : \",roc_auc_score(y_test_LR1  , y_pred_LR1))\n",
        "print(\"f1_score : \",f1_score(y_test_LR1 , y_pred_LR1))\n",
        "print(\"accuracy_score : \",accuracy_score(y_test_LR1,y_pred_LR1))\n",
        "\n",
        "Logistic_regression_score = [\"Logistic regression\",accuracy_score(y_test_LR1,y_pred_LR1),precision_score(y_test_LR1 , y_pred_LR1),\\\n",
        "                       recall_score(y_test_LR1 , y_pred_LR1),f1_score(y_test_LR1 , y_pred_LR1),f1_score(y_test_LR1 , y_pred_LR1)]"
      ],
      "metadata": {
        "colab": {
          "base_uri": "https://localhost:8080/"
        },
        "id": "XGEVkPVna9Kl",
        "outputId": "ce7b52d7-c2cc-49fd-edcd-5b12c18308d6"
      },
      "execution_count": null,
      "outputs": [
        {
          "output_type": "stream",
          "name": "stdout",
          "text": [
            "precision_score :  0.7\n",
            "recall_score :  1.0\n",
            "roc_auc_score :  0.9761904761904762\n",
            "f1_score :  0.8235294117647058\n",
            "accuracy_score :  0.9571428571428572\n"
          ]
        }
      ]
    },
    {
      "cell_type": "code",
      "source": [
        "#plot and ROC/AUC curves for logestic regression\n",
        "x_test_pred_prob = grid_LR.predict_proba(X_test_LR1)[:,1]\n",
        "fpr, tpr, thresh = roc_curve(y_test_LR1, x_test_pred_prob)\n",
        "plt.subplots(1, figsize=(10,10))\n",
        "plt.title('ROC curve')\n",
        "plt.plot(fpr, tpr)\n",
        "plt.plot([0, 1], ls=\"--\")\n",
        "plt.plot([0, 0], [1, 0] , c=\".7\"), plt.plot([1, 1] , c=\".7\")\n",
        "plt.ylabel('True Positive Rate')\n",
        "plt.xlabel('False Positive Rate')\n",
        "plt.show()"
      ],
      "metadata": {
        "colab": {
          "base_uri": "https://localhost:8080/",
          "height": 621
        },
        "id": "FyTiwYQwc6lh",
        "outputId": "d199fda4-0085-400f-d281-40637c5278c8"
      },
      "execution_count": null,
      "outputs": [
        {
          "output_type": "display_data",
          "data": {
            "text/plain": [
              "<Figure size 720x720 with 1 Axes>"
            ],
            "image/png": "[encoded data removed]"
          },
          "metadata": {
            "needs_background": "light"
          }
        }
      ]
    },
    {
      "cell_type": "code",
      "source": [
        "#classification report for logetic regression\n",
        "targets = ['Recovered','Dead']\n",
        "clf_report = classification_report(y_test_LR1,\n",
        "                                       y_pred_LR1,\n",
        "                                       target_names=targets,\n",
        "                                       output_dict=True)\n",
        "sns.heatmap(pd.DataFrame(clf_report).iloc[:-1, :].T, annot=True)"
      ],
      "metadata": {
        "colab": {
          "base_uri": "https://localhost:8080/",
          "height": 286
        },
        "id": "og5bTFYSc6wg",
        "outputId": "069aa25e-6766-4be2-ac91-37ff213f448e"
      },
      "execution_count": null,
      "outputs": [
        {
          "output_type": "execute_result",
          "data": {
            "text/plain": [
              "<AxesSubplot:>"
            ]
          },
          "metadata": {},
          "execution_count": 328
        },
        {
          "output_type": "display_data",
          "data": {
            "text/plain": [
              "<Figure size 432x288 with 2 Axes>"
            ],
            "image/png": "[encoded data removed]"
          },
          "metadata": {
            "needs_background": "light"
          }
        }
      ]
    },
    {
      "cell_type": "code",
      "source": [
        "\n",
        "\n",
        "\n",
        "\n",
        "\n",
        "\n",
        "\n"
      ],
      "metadata": {
        "id": "YNMEbkjA7npq"
      },
      "execution_count": null,
      "outputs": []
    },
    {
      "cell_type": "markdown",
      "source": [
        "#5. Support Vector Machines\n",
        "\n",
        "training the svm model using grid search and validate against training and testing using cross validation\n",
        "\n",
        " using different metrics such as the\n",
        "precision, recall, F1-score, and ROC/AUC curves.\n",
        "\n"
      ],
      "metadata": {
        "id": "67hkkonm1Uat"
      }
    },
    {
      "cell_type": "code",
      "source": [
        "from sklearn.svm import SVC\n"
      ],
      "metadata": {
        "id": "hc7n1fYXb4F-"
      },
      "execution_count": null,
      "outputs": []
    },
    {
      "cell_type": "markdown",
      "source": [
        "when i apply drop to some non importanr feature the svm model doesn't work\n",
        "\n",
        "\n",
        "well so i cancelled dropping some features cause it causes the accuracy to be low**\n",
        "\n"
      ],
      "metadata": {
        "id": "H07pfHqb01BL"
      }
    },
    {
      "cell_type": "code",
      "source": [
        "#GrideSearchCV to find the optimal hyperparameters by fit the model with difrrent hyperparameters and chose the best one with high accuracy\n",
        "get_grid_para = {'C': [0.1, 1, 10, 100], 'gamma': [1, 0.1, 0.01, 0.001, 0.0001], 'kernel': ['linear', 'rbf'], 'probability':[True,False]}\n",
        "grid_result = GridSearchCV(SVC(random_state=3), get_grid_para, refit = True, verbose = 3, cv=8, n_jobs= -1, scoring = 'accuracy')\n",
        "grid_result.fit(X_train, y_train)"
      ],
      "metadata": {
        "colab": {
          "base_uri": "https://localhost:8080/"
        },
        "id": "B4g-m5aHdq3d",
        "outputId": "e530b8e8-c5c6-4655-afa0-00eac54b2193"
      },
      "execution_count": null,
      "outputs": [
        {
          "metadata": {
            "tags": null
          },
          "name": "stdout",
          "output_type": "stream",
          "text": [
            "Fitting 8 folds for each of 80 candidates, totalling 640 fits\n"
          ]
        },
        {
          "output_type": "execute_result",
          "data": {
            "text/plain": [
              "GridSearchCV(cv=8, estimator=SVC(random_state=3), n_jobs=-1,\n",
              "             param_grid={'C': [0.1, 1, 10, 100],\n",
              "                         'gamma': [1, 0.1, 0.01, 0.001, 0.0001],\n",
              "                         'kernel': ['linear', 'rbf'],\n",
              "                         'probability': [True, False]},\n",
              "             scoring='accuracy', verbose=3)"
            ]
          },
          "metadata": {},
          "execution_count": 380
        }
      ]
    },
    {
      "cell_type": "code",
      "source": [
        "print(grid_result.best_params_, '  ' , grid_result.best_estimator_ , ' The Best Score : ' , grid_result.best_score_)\n"
      ],
      "metadata": {
        "colab": {
          "base_uri": "https://localhost:8080/"
        },
        "id": "fU4MiCbNqtX8",
        "outputId": "76144dd0-8c47-4ebc-9463-ddfdc491e878"
      },
      "execution_count": null,
      "outputs": [
        {
          "output_type": "stream",
          "name": "stdout",
          "text": [
            "{'C': 100, 'gamma': 0.001, 'kernel': 'rbf', 'probability': True}    SVC(C=100, gamma=0.001, probability=True, random_state=3)  The Best Score :  0.9517357642357642\n"
          ]
        }
      ]
    },
    {
      "cell_type": "code",
      "source": [
        "#Train the model with optimal hyperparameters\n",
        "SVM_model = SVC( kernel = 'rbf', C=10 , gamma=0.1 , random_state = 0 , probability=True)\n",
        "SVM_model.fit(X_train, y_train)"
      ],
      "metadata": {
        "colab": {
          "base_uri": "https://localhost:8080/"
        },
        "id": "vFg-ChaWqwJw",
        "outputId": "ecbb08f1-72d6-4f44-9db6-838926e542a4"
      },
      "execution_count": null,
      "outputs": [
        {
          "output_type": "execute_result",
          "data": {
            "text/plain": [
              "SVC(C=10, gamma=0.1, probability=True, random_state=0)"
            ]
          },
          "metadata": {},
          "execution_count": 383
        }
      ]
    },
    {
      "cell_type": "code",
      "source": [
        "SVC(C=10, gamma=0.1, probability=True, random_state=0)\n"
      ],
      "metadata": {
        "colab": {
          "base_uri": "https://localhost:8080/"
        },
        "id": "zUnroDl7qwMo",
        "outputId": "36dfcb9d-f024-4f4b-8864-e6dbce71716d"
      },
      "execution_count": null,
      "outputs": [
        {
          "output_type": "execute_result",
          "data": {
            "text/plain": [
              "SVC(C=10, gamma=0.1, probability=True, random_state=0)"
            ]
          },
          "metadata": {},
          "execution_count": 384
        }
      ]
    },
    {
      "cell_type": "code",
      "source": [
        "#Test the accuracy of model on training set\n",
        "print('SVM_model Train Score is : ' , SVM_model.score(X_train, y_train))"
      ],
      "metadata": {
        "colab": {
          "base_uri": "https://localhost:8080/"
        },
        "id": "fXDEO0yWqwO1",
        "outputId": "ef782a6b-e082-4803-aa13-4bf59b87bfcc"
      },
      "execution_count": null,
      "outputs": [
        {
          "output_type": "stream",
          "name": "stdout",
          "text": [
            "SVM_model Train Score is :  1.0\n"
          ]
        }
      ]
    },
    {
      "cell_type": "code",
      "source": [
        "yPred = SVM_model.predict(X_test)\n"
      ],
      "metadata": {
        "id": "iOvJQrqbqwQT"
      },
      "execution_count": null,
      "outputs": []
    },
    {
      "cell_type": "code",
      "source": [
        "con_matrix = confusion_matrix(y_test, yPred)\n",
        "print(con_matrix)"
      ],
      "metadata": {
        "colab": {
          "base_uri": "https://localhost:8080/"
        },
        "id": "Lbq6RczEsAoa",
        "outputId": "f62c334b-005f-4db4-c2a7-82009153bbaf"
      },
      "execution_count": null,
      "outputs": [
        {
          "output_type": "stream",
          "name": "stdout",
          "text": [
            "[[63  0]\n",
            " [ 6  1]]\n"
          ]
        }
      ]
    },
    {
      "cell_type": "code",
      "source": [
        "#plot the confusion matrix\n",
        "import numpy as np\n",
        "from sklearn.metrics import ConfusionMatrixDisplay\n",
        "\n",
        "def custom_confusion_matrix(y_test, yPred , display_labels=None):\n",
        "    \"\"\"\n",
        "    A function to plot a custom confusion matrix with\n",
        "    positive class as the first row and the first column.\n",
        "    \"\"\"\n",
        "    # Create a flipped matrix\n",
        "    cm = np.flip(confusion_matrix(y_test, yPred ))\n",
        "    # Create the plot\n",
        "    fig, ax = plt.subplots(figsize=(8, 5))\n",
        "    cmp = ConfusionMatrixDisplay(cm, display_labels=display_labels)\n",
        "    cmp.plot(ax=ax)\n",
        "\n",
        "custom_confusion_matrix(\n",
        "  y_test, yPred ,\n",
        "  display_labels=['Recovered','Dead']\n",
        ")"
      ],
      "metadata": {
        "colab": {
          "base_uri": "https://localhost:8080/",
          "height": 334
        },
        "id": "xzRuAt-MqwUU",
        "outputId": "6d6737db-a0be-49f9-f513-7c34ac469116"
      },
      "execution_count": null,
      "outputs": [
        {
          "output_type": "display_data",
          "data": {
            "text/plain": [
              "<Figure size 576x360 with 2 Axes>"
            ],
            "image/png": "[encoded data removed]"
          },
          "metadata": {
            "needs_background": "light"
          }
        }
      ]
    },
    {
      "cell_type": "code",
      "source": [
        "#drop non important features\n",
        "\n",
        "c_dataset= c_dataset.drop(\"from_wuhan\", axis='columns')\n",
        "c_dataset= c_dataset.drop(\"diff_sym_hos\", axis='columns')\n",
        "c_dataset= c_dataset.drop(\"symptom5\", axis='columns')\n",
        "c_dataset= c_dataset.drop(\"symptom6\", axis='columns')\n",
        "c_dataset= c_dataset.drop(\"symptom4\", axis='columns')\n",
        "c_dataset= c_dataset.drop(\"country\", axis='columns')\n",
        "\n"
      ],
      "metadata": {
        "id": "q0rdDuWoAAfK"
      },
      "execution_count": null,
      "outputs": []
    },
    {
      "cell_type": "code",
      "source": [
        "print(\"precision_score : \",precision_score(y_test ,yPred))\n",
        "print(\"recall_score : \" ,recall_score(y_test,yPred))\n",
        "print(\"roc_auc_score : \",roc_auc_score(y_test,yPred))\n",
        "print(\"f1_score : \",f1_score(y_test,yPred))\n",
        "print(\"accuracy_score : \",accuracy_score(y_test,yPred))\n",
        "\n",
        "SVM_score = [\"SVM\",accuracy_score(y_test,yPred),precision_score(y_test,yPred),\\\n",
        "                       recall_score(y_test,yPred),f1_score(y_test,yPred),f1_score(y_test,yPred)]"
      ],
      "metadata": {
        "colab": {
          "base_uri": "https://localhost:8080/"
        },
        "id": "z0eKEeDpG9aU",
        "outputId": "8bf46ad1-3f3c-4004-ca16-0fd49dff0d8c"
      },
      "execution_count": null,
      "outputs": [
        {
          "output_type": "stream",
          "name": "stdout",
          "text": [
            "precision_score :  1.0\n",
            "recall_score :  0.14285714285714285\n",
            "roc_auc_score :  0.5714285714285714\n",
            "f1_score :  0.25\n",
            "accuracy_score :  0.9142857142857143\n"
          ]
        }
      ]
    },
    {
      "cell_type": "code",
      "source": [
        "#Calculating Area Under the Curve with predict probapility\n",
        "fpr, tpr, thresholds = roc_curve(y_test, SVM_model.predict_proba(X_test)[:,1])\n",
        "roc_auc = roc_auc_score(y_test, SVM_model.predict_proba(X_test)[:,1])\n",
        "plt.plot(fpr, tpr, 'm', label = 'AUC = %7E1E9C' % roc_auc)\n",
        "plt.plot(fpr, tpr, color='purple', label='')\n",
        "plt.plot([0, 1], [0, 1], color='magenta', linestyle='--')\n",
        "plt.xlabel('False Positive Rate')\n",
        "plt.ylabel('True Positive Rate')\n",
        "plt.title('Receiver Operating Characteristic (ROC) Curve')\n",
        "plt.legend(loc = 'lower right')\n",
        "plt.grid()\n",
        "plt.show()"
      ],
      "metadata": {
        "colab": {
          "base_uri": "https://localhost:8080/",
          "height": 295
        },
        "id": "gOhHfW8SG9fI",
        "outputId": "b11c1615-f158-4eca-911d-4cb161629a5e"
      },
      "execution_count": null,
      "outputs": [
        {
          "output_type": "display_data",
          "data": {
            "text/plain": [
              "<Figure size 432x288 with 1 Axes>"
            ],
            "image/png": "[encoded data removed]"
          },
          "metadata": {
            "needs_background": "light"
          }
        }
      ]
    },
    {
      "cell_type": "code",
      "source": [
        "targets = ['Recovered','Dead']\n",
        "clf_report = classification_report(y_test,\n",
        "                                       yPred,\n",
        "                                       target_names=targets,\n",
        "                                       output_dict=True)\n",
        "sns.heatmap(pd.DataFrame(clf_report).iloc[:-1, :].T, annot=True)"
      ],
      "metadata": {
        "colab": {
          "base_uri": "https://localhost:8080/",
          "height": 286
        },
        "id": "sogrng0GG-Ez",
        "outputId": "783644f8-0f30-4076-f0df-910dbc558af3"
      },
      "execution_count": null,
      "outputs": [
        {
          "output_type": "execute_result",
          "data": {
            "text/plain": [
              "<AxesSubplot:>"
            ]
          },
          "metadata": {},
          "execution_count": 421
        },
        {
          "output_type": "display_data",
          "data": {
            "text/plain": [
              "<Figure size 432x288 with 2 Axes>"
            ],
            "image/png": "[encoded data removed]"
          },
          "metadata": {
            "needs_background": "light"
          }
        }
      ]
    },
    {
      "cell_type": "markdown",
      "source": [
        "compare the performance of all classifiers using different metrics such as the\n",
        "precision, recall, F1-score, and ROC/AUC curves.\n",
        "\n"
      ],
      "metadata": {
        "id": "edp6viBM2QvN"
      }
    },
    {
      "cell_type": "code",
      "source": [
        "column_names = [\"Classifier\", \"Accuracy\", \"precision\",\"Recall\",\"F1 score\",\"ROC/AUC\"]\n",
        "\n",
        "Data = [KNN_score , Naive_bayes_score , Decision_Tree_score , Logistic_regression_score , SVM_score]\n",
        "\n",
        "comparision_df = pd.DataFrame(Data , columns = column_names)\n",
        "\n",
        "comparision_df"
      ],
      "metadata": {
        "colab": {
          "base_uri": "https://localhost:8080/",
          "height": 206
        },
        "id": "PZcLNiCOxN2d",
        "outputId": "2ba0eb18-3f6c-4e24-a462-9d60e02cff55"
      },
      "execution_count": null,
      "outputs": [
        {
          "output_type": "execute_result",
          "data": {
            "text/plain": [
              "            Classifier  Accuracy  precision    Recall  F1 score   ROC/AUC\n",
              "0                  KNN  0.971429   0.777778  1.000000  0.875000  0.875000\n",
              "1          Naive bayes  0.957143   0.700000  1.000000  0.823529  0.823529\n",
              "2        Decision Tree  0.928571   0.583333  1.000000  0.736842  0.736842\n",
              "3  Logistic regression  0.957143   0.700000  1.000000  0.823529  0.823529\n",
              "4                  SVM  0.914286   1.000000  0.142857  0.250000  0.250000"
            ],
            "text/html": [
              "\n",
              "  <div id=\"df-06081dc3-3d87-472c-9c8a-566de177af03\">\n",
              "    <div class=\"colab-df-container\">\n",
              "      <div>\n",
              "<style scoped>\n",
              "    .dataframe tbody tr th:only-of-type {\n",
              "        vertical-align: middle;\n",
              "    }\n",
              "\n",
              "    .dataframe tbody tr th {\n",
              "        vertical-align: top;\n",
              "    }\n",
              "\n",
              "    .dataframe thead th {\n",
              "        text-align: right;\n",
              "    }\n",
              "</style>\n",
              "<table border=\"1\" class=\"dataframe\">\n",
              "  <thead>\n",
              "    <tr style=\"text-align: right;\">\n",
              "      <th></th>\n",
              "      <th>Classifier</th>\n",
              "      <th>Accuracy</th>\n",
              "      <th>precision</th>\n",
              "      <th>Recall</th>\n",
              "      <th>F1 score</th>\n",
              "      <th>ROC/AUC</th>\n",
              "    </tr>\n",
              "  </thead>\n",
              "  <tbody>\n",
              "    <tr>\n",
              "      <th>0</th>\n",
              "      <td>KNN</td>\n",
              "      <td>0.971429</td>\n",
              "      <td>0.777778</td>\n",
              "      <td>1.000000</td>\n",
              "      <td>0.875000</td>\n",
              "      <td>0.875000</td>\n",
              "    </tr>\n",
              "    <tr>\n",
              "      <th>1</th>\n",
              "      <td>Naive bayes</td>\n",
              "      <td>0.957143</td>\n",
              "      <td>0.700000</td>\n",
              "      <td>1.000000</td>\n",
              "      <td>0.823529</td>\n",
              "      <td>0.823529</td>\n",
              "    </tr>\n",
              "    <tr>\n",
              "      <th>2</th>\n",
              "      <td>Decision Tree</td>\n",
              "      <td>0.928571</td>\n",
              "      <td>0.583333</td>\n",
              "      <td>1.000000</td>\n",
              "      <td>0.736842</td>\n",
              "      <td>0.736842</td>\n",
              "    </tr>\n",
              "    <tr>\n",
              "      <th>3</th>\n",
              "      <td>Logistic regression</td>\n",
              "      <td>0.957143</td>\n",
              "      <td>0.700000</td>\n",
              "      <td>1.000000</td>\n",
              "      <td>0.823529</td>\n",
              "      <td>0.823529</td>\n",
              "    </tr>\n",
              "    <tr>\n",
              "      <th>4</th>\n",
              "      <td>SVM</td>\n",
              "      <td>0.914286</td>\n",
              "      <td>1.000000</td>\n",
              "      <td>0.142857</td>\n",
              "      <td>0.250000</td>\n",
              "      <td>0.250000</td>\n",
              "    </tr>\n",
              "  </tbody>\n",
              "</table>\n",
              "</div>\n",
              "      <button class=\"colab-df-convert\" onclick=\"convertToInteractive('df-06081dc3-3d87-472c-9c8a-566de177af03')\"\n",
              "              title=\"Convert this dataframe to an interactive table.\"\n",
              "              style=\"display:none;\">\n",
              "        \n",
              "  <svg xmlns=\"http://www.w3.org/2000/svg\" height=\"24px\"viewBox=\"0 0 24 24\"\n",
              "       width=\"24px\">\n",
              "    <path d=\"M0 0h24v24H0V0z\" fill=\"none\"/>\n",
              "    <path d=\"M18.56 5.44l.94 2.06.94-2.06 2.06-.94-2.06-.94-.94-2.06-.94 2.06-2.06.94zm-11 1L8.5 8.5l.94-2.06 2.06-.94-2.06-.94L8.5 2.5l-.94 2.06-2.06.94zm10 10l.94 2.06.94-2.06 2.06-.94-2.06-.94-.94-2.06-.94 2.06-2.06.94z\"/><path d=\"M17.41 7.96l-1.37-1.37c-.4-.4-.92-.59-1.43-.59-.52 0-1.04.2-1.43.59L10.3 9.45l-7.72 7.72c-.78.78-.78 2.05 0 2.83L4 21.41c.39.39.9.59 1.41.59.51 0 1.02-.2 1.41-.59l7.78-7.78 2.81-2.81c.8-.78.8-2.07 0-2.86zM5.41 20L4 18.59l7.72-7.72 1.47 1.35L5.41 20z\"/>\n",
              "  </svg>\n",
              "      </button>\n",
              "      \n",
              "  <style>\n",
              "    .colab-df-container {\n",
              "      display:flex;\n",
              "      flex-wrap:wrap;\n",
              "      gap: 12px;\n",
              "    }\n",
              "\n",
              "    .colab-df-convert {\n",
              "      background-color: #E8F0FE;\n",
              "      border: none;\n",
              "      border-radius: 50%;\n",
              "      cursor: pointer;\n",
              "      display: none;\n",
              "      fill: #1967D2;\n",
              "      height: 32px;\n",
              "      padding: 0 0 0 0;\n",
              "      width: 32px;\n",
              "    }\n",
              "\n",
              "    .colab-df-convert:hover {\n",
              "      background-color: #E2EBFA;\n",
              "      box-shadow: 0px 1px 2px rgba(60, 64, 67, 0.3), 0px 1px 3px 1px rgba(60, 64, 67, 0.15);\n",
              "      fill: #174EA6;\n",
              "    }\n",
              "\n",
              "    [theme=dark] .colab-df-convert {\n",
              "      background-color: #3B4455;\n",
              "      fill: #D2E3FC;\n",
              "    }\n",
              "\n",
              "    [theme=dark] .colab-df-convert:hover {\n",
              "      background-color: #434B5C;\n",
              "      box-shadow: 0px 1px 3px 1px rgba(0, 0, 0, 0.15);\n",
              "      filter: drop-shadow(0px 1px 2px rgba(0, 0, 0, 0.3));\n",
              "      fill: #FFFFFF;\n",
              "    }\n",
              "  </style>\n",
              "\n",
              "      <script>\n",
              "        const buttonEl =\n",
              "          document.querySelector('#df-06081dc3-3d87-472c-9c8a-566de177af03 button.colab-df-convert');\n",
              "        buttonEl.style.display =\n",
              "          google.colab.kernel.accessAllowed ? 'block' : 'none';\n",
              "\n",
              "        async function convertToInteractive(key) {\n",
              "          const element = document.querySelector('#df-06081dc3-3d87-472c-9c8a-566de177af03');\n",
              "          const dataTable =\n",
              "            await google.colab.kernel.invokeFunction('convertToInteractive',\n",
              "                                                     [key], {});\n",
              "          if (!dataTable) return;\n",
              "\n",
              "          const docLinkHtml = 'Like what you see? Visit the ' +\n",
              "            '<a target=\"_blank\" href=https://colab.research.google.com/notebooks/data_table.ipynb>data table notebook</a>'\n",
              "            + ' to learn more about interactive tables.';\n",
              "          element.innerHTML = '';\n",
              "          dataTable['output_type'] = 'display_data';\n",
              "          await google.colab.output.renderOutput(dataTable, element);\n",
              "          const docLink = document.createElement('div');\n",
              "          docLink.innerHTML = docLinkHtml;\n",
              "          element.appendChild(docLink);\n",
              "        }\n",
              "      </script>\n",
              "    </div>\n",
              "  </div>\n",
              "  "
            ]
          },
          "metadata": {},
          "execution_count": 422
        }
      ]
    }
  ]
}